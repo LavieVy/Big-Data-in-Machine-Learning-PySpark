{
 "cells": [
  {
   "cell_type": "markdown",
   "metadata": {},
   "source": [
    "# Câu 6: Association Rules – BAKERY (1.0 mark)"
   ]
  },
  {
   "cell_type": "markdown",
   "metadata": {},
   "source": [
    "Use dataset 75000 (select suitable files in this folder) to build the model to identify sets \n",
    "of items that are frequently bought together with two cases: \n",
    "- Using: Id\n",
    "- Using: Flavor and Food name (in goods.csv).\n",
    "\n",
    "Read more information here:\n",
    "\n",
    "http://users.csc.calpoly.edu/~dekhtyar/466-Spring2018/labs/lab2.466.pdf"
   ]
  },
  {
   "cell_type": "code",
   "execution_count": 1,
   "metadata": {},
   "outputs": [],
   "source": [
    "import findspark\n",
    "findspark.init()"
   ]
  },
  {
   "cell_type": "code",
   "execution_count": 2,
   "metadata": {},
   "outputs": [],
   "source": [
    "from pyspark import SparkContext\n",
    "from pyspark.conf import SparkConf\n",
    "from pyspark.sql import SparkSession"
   ]
  },
  {
   "cell_type": "code",
   "execution_count": 3,
   "metadata": {},
   "outputs": [
    {
     "data": {
      "text/html": [
       "\n",
       "        <div>\n",
       "            <p><b>SparkContext</b></p>\n",
       "\n",
       "            <p><a href=\"http://DESKTOP-U0BRSSO:4041\">Spark UI</a></p>\n",
       "\n",
       "            <dl>\n",
       "              <dt>Version</dt>\n",
       "                <dd><code>v3.5.1</code></dd>\n",
       "              <dt>Master</dt>\n",
       "                <dd><code>local[*]</code></dd>\n",
       "              <dt>AppName</dt>\n",
       "                <dd><code>pyspark-shell</code></dd>\n",
       "            </dl>\n",
       "        </div>\n",
       "        "
      ],
      "text/plain": [
       "<SparkContext master=local[*] appName=pyspark-shell>"
      ]
     },
     "execution_count": 3,
     "metadata": {},
     "output_type": "execute_result"
    }
   ],
   "source": [
    "sc = SparkContext()\n",
    "sc"
   ]
  },
  {
   "cell_type": "code",
   "execution_count": 4,
   "metadata": {},
   "outputs": [
    {
     "data": {
      "text/html": [
       "\n",
       "            <div>\n",
       "                <p><b>SparkSession - in-memory</b></p>\n",
       "                \n",
       "        <div>\n",
       "            <p><b>SparkContext</b></p>\n",
       "\n",
       "            <p><a href=\"http://DESKTOP-U0BRSSO:4041\">Spark UI</a></p>\n",
       "\n",
       "            <dl>\n",
       "              <dt>Version</dt>\n",
       "                <dd><code>v3.5.1</code></dd>\n",
       "              <dt>Master</dt>\n",
       "                <dd><code>local[*]</code></dd>\n",
       "              <dt>AppName</dt>\n",
       "                <dd><code>pyspark-shell</code></dd>\n",
       "            </dl>\n",
       "        </div>\n",
       "        \n",
       "            </div>\n",
       "        "
      ],
      "text/plain": [
       "<pyspark.sql.session.SparkSession at 0x10c260f69e0>"
      ]
     },
     "execution_count": 4,
     "metadata": {},
     "output_type": "execute_result"
    }
   ],
   "source": [
    "spark = SparkSession.builder.appName('AssociationRules_BAKERY').getOrCreate()\n",
    "spark"
   ]
  },
  {
   "cell_type": "markdown",
   "metadata": {},
   "source": [
    "## Read dataset and Pre-processing data"
   ]
  },
  {
   "cell_type": "markdown",
   "metadata": {},
   "source": [
    "Items Table. Files XXXXi.csv. Each line of the file represents a single tuple from the Items table. \n",
    "- The columns are: Receipt(number), Quantity, Item\n",
    "- Example:\n",
    "\n",
    "        1,3,7\n",
    "        1,4,15\n",
    "        1,2,49\n",
    "        1,5,44\n",
    "        (note, that the item IDs may be out of order)"
   ]
  },
  {
   "cell_type": "code",
   "execution_count": 5,
   "metadata": {},
   "outputs": [],
   "source": [
    "# Read 1000i.csv file for list of transactions\n",
    "# ReceiptId, Quantity, Item Id\n",
    "bakery = spark.read.csv(f\"75000/75000i.csv\", header=False, inferSchema=True)\n",
    "bakery = bakery.toDF(\"ReceiptId\", \"Quantity\", \"Id\")"
   ]
  },
  {
   "cell_type": "code",
   "execution_count": 6,
   "metadata": {},
   "outputs": [
    {
     "data": {
      "text/plain": [
       "266209"
      ]
     },
     "execution_count": 6,
     "metadata": {},
     "output_type": "execute_result"
    }
   ],
   "source": [
    "#2. Cho biết dữ liệu có bao nhiêu dòng, \n",
    "bakery.count()"
   ]
  },
  {
   "cell_type": "code",
   "execution_count": 7,
   "metadata": {},
   "outputs": [
    {
     "name": "stdout",
     "output_type": "stream",
     "text": [
      "root\n",
      " |-- ReceiptId: integer (nullable = true)\n",
      " |-- Quantity: integer (nullable = true)\n",
      " |-- Id: integer (nullable = true)\n",
      "\n"
     ]
    }
   ],
   "source": [
    "# in scheme. \n",
    "bakery.printSchema()"
   ]
  },
  {
   "cell_type": "code",
   "execution_count": 8,
   "metadata": {},
   "outputs": [
    {
     "name": "stdout",
     "output_type": "stream",
     "text": [
      "+---------+--------+---+\n",
      "|ReceiptId|Quantity| Id|\n",
      "+---------+--------+---+\n",
      "|        1|       1| 21|\n",
      "|        1|       5| 11|\n",
      "|        2|       1|  7|\n",
      "|        2|       3| 11|\n",
      "|        2|       4| 37|\n",
      "+---------+--------+---+\n",
      "only showing top 5 rows\n",
      "\n"
     ]
    }
   ],
   "source": [
    "bakery.show(5)"
   ]
  },
  {
   "cell_type": "code",
   "execution_count": 9,
   "metadata": {},
   "outputs": [],
   "source": [
    "from pyspark.sql.functions import col, udf\n",
    "from pyspark.sql.functions import isnan, when, count, col"
   ]
  },
  {
   "cell_type": "code",
   "execution_count": 10,
   "metadata": {},
   "outputs": [
    {
     "data": {
      "text/html": [
       "<div>\n",
       "<style scoped>\n",
       "    .dataframe tbody tr th:only-of-type {\n",
       "        vertical-align: middle;\n",
       "    }\n",
       "\n",
       "    .dataframe tbody tr th {\n",
       "        vertical-align: top;\n",
       "    }\n",
       "\n",
       "    .dataframe thead th {\n",
       "        text-align: right;\n",
       "    }\n",
       "</style>\n",
       "<table border=\"1\" class=\"dataframe\">\n",
       "  <thead>\n",
       "    <tr style=\"text-align: right;\">\n",
       "      <th></th>\n",
       "      <th>0</th>\n",
       "    </tr>\n",
       "  </thead>\n",
       "  <tbody>\n",
       "    <tr>\n",
       "      <th>ReceiptId</th>\n",
       "      <td>0</td>\n",
       "    </tr>\n",
       "    <tr>\n",
       "      <th>Quantity</th>\n",
       "      <td>0</td>\n",
       "    </tr>\n",
       "    <tr>\n",
       "      <th>Id</th>\n",
       "      <td>0</td>\n",
       "    </tr>\n",
       "  </tbody>\n",
       "</table>\n",
       "</div>"
      ],
      "text/plain": [
       "           0\n",
       "ReceiptId  0\n",
       "Quantity   0\n",
       "Id         0"
      ]
     },
     "execution_count": 10,
     "metadata": {},
     "output_type": "execute_result"
    }
   ],
   "source": [
    "#3. Kiểm tra dữ liệu NaN, null\n",
    "bakery.select([count(when(isnan(c), c)).alias(c) for c in bakery.columns]).toPandas().T"
   ]
  },
  {
   "cell_type": "markdown",
   "metadata": {},
   "source": [
    " => Không có dữ liệu NaN"
   ]
  },
  {
   "cell_type": "code",
   "execution_count": 11,
   "metadata": {},
   "outputs": [
    {
     "data": {
      "text/html": [
       "<div>\n",
       "<style scoped>\n",
       "    .dataframe tbody tr th:only-of-type {\n",
       "        vertical-align: middle;\n",
       "    }\n",
       "\n",
       "    .dataframe tbody tr th {\n",
       "        vertical-align: top;\n",
       "    }\n",
       "\n",
       "    .dataframe thead th {\n",
       "        text-align: right;\n",
       "    }\n",
       "</style>\n",
       "<table border=\"1\" class=\"dataframe\">\n",
       "  <thead>\n",
       "    <tr style=\"text-align: right;\">\n",
       "      <th></th>\n",
       "      <th>0</th>\n",
       "    </tr>\n",
       "  </thead>\n",
       "  <tbody>\n",
       "    <tr>\n",
       "      <th>ReceiptId</th>\n",
       "      <td>0</td>\n",
       "    </tr>\n",
       "    <tr>\n",
       "      <th>Quantity</th>\n",
       "      <td>0</td>\n",
       "    </tr>\n",
       "    <tr>\n",
       "      <th>Id</th>\n",
       "      <td>0</td>\n",
       "    </tr>\n",
       "  </tbody>\n",
       "</table>\n",
       "</div>"
      ],
      "text/plain": [
       "           0\n",
       "ReceiptId  0\n",
       "Quantity   0\n",
       "Id         0"
      ]
     },
     "execution_count": 11,
     "metadata": {},
     "output_type": "execute_result"
    }
   ],
   "source": [
    "bakery.select([count(when(col(c).isNull(), c)).alias(c) for c in bakery.columns]).toPandas().T"
   ]
  },
  {
   "cell_type": "markdown",
   "metadata": {},
   "source": [
    " => Không có dữ liệu Null"
   ]
  },
  {
   "cell_type": "code",
   "execution_count": 12,
   "metadata": {},
   "outputs": [],
   "source": [
    "#4. Kiểm tra dữ liệu trùng. \n",
    "num_rows = bakery.count()\n",
    "num_dist_rows = bakery.distinct().count()\n",
    "dup_rows = num_rows - num_dist_rows"
   ]
  },
  {
   "cell_type": "code",
   "execution_count": 13,
   "metadata": {},
   "outputs": [
    {
     "data": {
      "text/plain": [
       "266209"
      ]
     },
     "metadata": {},
     "output_type": "display_data"
    },
    {
     "data": {
      "text/plain": [
       "266209"
      ]
     },
     "metadata": {},
     "output_type": "display_data"
    },
    {
     "data": {
      "text/plain": [
       "0"
      ]
     },
     "metadata": {},
     "output_type": "display_data"
    }
   ],
   "source": [
    "display(num_rows, num_dist_rows, dup_rows)"
   ]
  },
  {
   "cell_type": "markdown",
   "metadata": {},
   "source": [
    " => Không có dữ liệu trùng"
   ]
  },
  {
   "cell_type": "code",
   "execution_count": 14,
   "metadata": {},
   "outputs": [],
   "source": [
    "# Convert dataframe phù hợp FPGrowth\n",
    "bakery_transaction = bakery.groupBy(\"ReceiptId\").agg({\"Id\": \"collect_list\"}) \\\n",
    "                                 .withColumnRenamed(\"collect_list(Id)\", \"items\")"
   ]
  },
  {
   "cell_type": "code",
   "execution_count": 15,
   "metadata": {},
   "outputs": [
    {
     "name": "stdout",
     "output_type": "stream",
     "text": [
      "+---------+---------------+\n",
      "|ReceiptId|items          |\n",
      "+---------+---------------+\n",
      "|1        |[21, 11]       |\n",
      "|2        |[7, 11, 37, 45]|\n",
      "|3        |[3, 42, 33]    |\n",
      "|4        |[5, 12, 47, 17]|\n",
      "|5        |[42, 6, 18]    |\n",
      "+---------+---------------+\n",
      "only showing top 5 rows\n",
      "\n"
     ]
    }
   ],
   "source": [
    "bakery_transaction.show(5, truncate=False)"
   ]
  },
  {
   "cell_type": "markdown",
   "metadata": {},
   "source": [
    "## Build the model to identify sets of items that are frequently bought together"
   ]
  },
  {
   "cell_type": "markdown",
   "metadata": {},
   "source": [
    "### Case 1: Using Id"
   ]
  },
  {
   "cell_type": "code",
   "execution_count": 16,
   "metadata": {},
   "outputs": [],
   "source": [
    "from pyspark.ml.fpm import FPGrowth"
   ]
  },
  {
   "cell_type": "code",
   "execution_count": 17,
   "metadata": {},
   "outputs": [],
   "source": [
    "# Fit the FP-growth model\n",
    "fpGrowth = FPGrowth(itemsCol=\"items\", minSupport=0.003, minConfidence=0.003)\n",
    "model = fpGrowth.fit(bakery_transaction)"
   ]
  },
  {
   "cell_type": "code",
   "execution_count": 18,
   "metadata": {},
   "outputs": [
    {
     "name": "stdout",
     "output_type": "stream",
     "text": [
      "+--------+----+\n",
      "|   items|freq|\n",
      "+--------+----+\n",
      "|    [19]|5685|\n",
      "|[19, 27]| 359|\n",
      "|[19, 33]| 334|\n",
      "| [19, 1]|2764|\n",
      "|[19, 28]| 408|\n",
      "|[19, 37]| 274|\n",
      "|[19, 35]| 312|\n",
      "|[19, 16]| 286|\n",
      "| [19, 4]| 388|\n",
      "|[19, 46]| 324|\n",
      "|[19, 15]| 298|\n",
      "| [19, 5]| 323|\n",
      "|[19, 22]| 368|\n",
      "|[19, 32]| 297|\n",
      "|[19, 45]| 344|\n",
      "|[19, 47]| 331|\n",
      "| [19, 3]| 294|\n",
      "|[19, 14]| 350|\n",
      "|[19, 11]| 296|\n",
      "| [19, 0]| 305|\n",
      "+--------+----+\n",
      "only showing top 20 rows\n",
      "\n"
     ]
    }
   ],
   "source": [
    "# Display frequent itemsets.\n",
    "model.freqItemsets.show()"
   ]
  },
  {
   "cell_type": "code",
   "execution_count": 19,
   "metadata": {},
   "outputs": [],
   "source": [
    "# transform examines the input items against all the association rules and summary\n",
    "# consequents as prediction\n",
    "mostPopularItemInABasket = model.transform(bakery_transaction)"
   ]
  },
  {
   "cell_type": "code",
   "execution_count": 20,
   "metadata": {},
   "outputs": [
    {
     "name": "stdout",
     "output_type": "stream",
     "text": [
      "-RECORD 0-----------------------------------------------------------------------------------------------------------------------------------------------------------------------------------------\n",
      " ReceiptId  | 1                                                                                                                                                                                   \n",
      " items      | [21, 11]                                                                                                                                                                            \n",
      " prediction | [19, 33, 27, 1, 28, 35, 16, 46, 4, 15, 22, 5, 32, 45, 47, 14, 0, 18, 49, 9, 44, 42, 7, 17, 29, 2, 40, 37, 3]                                                                        \n",
      "-RECORD 1-----------------------------------------------------------------------------------------------------------------------------------------------------------------------------------------\n",
      " ReceiptId  | 2                                                                                                                                                                                   \n",
      " items      | [7, 11, 37, 45]                                                                                                                                                                     \n",
      " prediction | [19, 41, 21, 31, 27, 38, 33, 17, 1, 24, 13, 28, 35, 16, 6, 25, 34, 46, 4, 15, 29, 5, 22, 8, 2, 23, 32, 48, 12, 47, 26, 43, 40, 14, 3, 10, 0, 18, 49, 20, 9, 30, 44, 42, 36]         \n",
      "-RECORD 2-----------------------------------------------------------------------------------------------------------------------------------------------------------------------------------------\n",
      " ReceiptId  | 3                                                                                                                                                                                   \n",
      " items      | [3, 42, 33]                                                                                                                                                                         \n",
      " prediction | [19, 41, 21, 31, 27, 38, 17, 1, 24, 13, 39, 37, 16, 6, 25, 34, 46, 15, 29, 5, 22, 8, 2, 23, 32, 48, 12, 47, 26, 43, 40, 14, 10, 11, 0, 49, 20, 9, 30, 44, 28, 35, 4, 45, 18, 7, 36] \n",
      "only showing top 3 rows\n",
      "\n"
     ]
    }
   ],
   "source": [
    "mostPopularItemInABasket.show(3, truncate=False, vertical=True)"
   ]
  },
  {
   "cell_type": "code",
   "execution_count": 21,
   "metadata": {},
   "outputs": [
    {
     "name": "stdout",
     "output_type": "stream",
     "text": [
      "+----------+----------+--------------------+------------------+--------------------+\n",
      "|antecedent|consequent|          confidence|              lift|             support|\n",
      "+----------+----------+--------------------+------------------+--------------------+\n",
      "|      [14]|      [19]|0.055014146494812954|0.7257802967653424|0.004666666666666667|\n",
      "|      [14]|      [41]|0.044011317195850365|0.6496455008244002|0.003733333333333...|\n",
      "|      [14]|      [21]| 0.04306821754165357|0.9960272326931907|0.003653333333333...|\n",
      "|      [14]|      [31]|0.044011317195850365|0.6540219515927833|0.003733333333333...|\n",
      "|      [14]|      [38]| 0.04306821754165357|1.0148024868438636|0.003653333333333...|\n",
      "|      [14]|      [33]| 0.05910091166299906|0.7188725875324244|0.005013333333333333|\n",
      "|      [14]|      [17]|0.050927381326626844|0.6908217759987364|             0.00432|\n",
      "|      [14]|       [1]| 0.06523105941527821|0.7801514042650081|0.005533333333333334|\n",
      "|      [14]|      [24]|0.044168500471549826|0.6494094364568197|0.003746666666666667|\n",
      "|      [14]|      [13]|0.044325683747249295|1.0464042433250542|             0.00376|\n",
      "|      [14]|      [39]|  0.0520276642565231| 1.179944003398619|0.004413333333333333|\n",
      "|      [14]|      [37]| 0.05139893115372524|0.6657892636492907|             0.00436|\n",
      "|      [14]|      [16]| 0.05690034580320654|0.6859871299213134|0.004826666666666667|\n",
      "|      [14]|       [6]| 0.04196793461175731|0.9904326922220889|             0.00356|\n",
      "|      [14]|      [25]|0.044482867022948756|1.0607996905313692|0.003773333333333...|\n",
      "|      [14]|      [34]|0.044954416850047155|1.0396488633220895|0.003813333333333...|\n",
      "|      [14]|      [46]|0.055957246149009744|0.6729944613816118|0.004746666666666666|\n",
      "|      [14]|      [15]| 0.04904118201823326|0.6464127682543926|             0.00416|\n",
      "|      [14]|      [29]| 0.04621188305564288|0.6810554586703117|             0.00392|\n",
      "|      [14]|       [5]|0.060358377868594784|0.7339296919819406|             0.00512|\n",
      "+----------+----------+--------------------+------------------+--------------------+\n",
      "only showing top 20 rows\n",
      "\n"
     ]
    }
   ],
   "source": [
    "# Display generated association rules\n",
    "model.associationRules.show()"
   ]
  },
  {
   "cell_type": "code",
   "execution_count": 22,
   "metadata": {},
   "outputs": [],
   "source": [
    "mostPopularItemInABasket.write.parquet(\"MPIB.parquet\", mode = \"overwrite\")"
   ]
  },
  {
   "cell_type": "code",
   "execution_count": 23,
   "metadata": {},
   "outputs": [],
   "source": [
    "mostPopularItemInABasket.toPandas().to_csv('mostPopularItemInABasket_ID.csv', index = False)"
   ]
  },
  {
   "cell_type": "markdown",
   "metadata": {},
   "source": [
    "### Case 2: Using Flavor and Food name (in goods.csv)"
   ]
  },
  {
   "cell_type": "code",
   "execution_count": 24,
   "metadata": {},
   "outputs": [],
   "source": [
    "from pyspark.sql.functions import concat, col, lit, regexp_replace, concat_ws"
   ]
  },
  {
   "cell_type": "code",
   "execution_count": 25,
   "metadata": {},
   "outputs": [],
   "source": [
    "# Read goods.csv file and assign column classes\n",
    "goods_raw = spark.read.csv('75000/goods.csv', \n",
    "                      header=True, inferSchema=True)"
   ]
  },
  {
   "cell_type": "code",
   "execution_count": 26,
   "metadata": {},
   "outputs": [
    {
     "name": "stdout",
     "output_type": "stream",
     "text": [
      "+---+------------+------+-----+------+\n",
      "|Id |Flavor      |Food  |Price|Type  |\n",
      "+---+------------+------+-----+------+\n",
      "|0  |'Chocolate' |'Cake'|8.95 |'Food'|\n",
      "|1  |'Lemon'     |'Cake'|8.95 |'Food'|\n",
      "|2  |'Casino'    |'Cake'|15.95|'Food'|\n",
      "|3  |'Opera'     |'Cake'|15.95|'Food'|\n",
      "|4  |'Strawberry'|'Cake'|11.95|'Food'|\n",
      "+---+------------+------+-----+------+\n",
      "only showing top 5 rows\n",
      "\n"
     ]
    }
   ],
   "source": [
    "goods_raw.show(5, truncate=False)"
   ]
  },
  {
   "cell_type": "code",
   "execution_count": 27,
   "metadata": {},
   "outputs": [],
   "source": [
    "# Merge the columns and remove the \"'\" and \"spaces\"\n",
    "goods = goods_raw.withColumn(\"Flavor_and_Food_name\", concat(col(\"flavor\"), lit(\" \"), col(\"food\"))) \\\n",
    "                 .withColumn(\"Flavor_and_Food_name\", regexp_replace(col(\"Flavor_and_Food_name\"), \"'\", \"\")) \\\n",
    "                 .drop(\"flavor\", \"type\", \"price\", \"drink\", \"food\")"
   ]
  },
  {
   "cell_type": "code",
   "execution_count": 28,
   "metadata": {},
   "outputs": [
    {
     "name": "stdout",
     "output_type": "stream",
     "text": [
      "+---+--------------------+\n",
      "|Id |Flavor_and_Food_name|\n",
      "+---+--------------------+\n",
      "|0  |Chocolate Cake      |\n",
      "|1  |Lemon Cake          |\n",
      "|2  |Casino Cake         |\n",
      "|3  |Opera Cake          |\n",
      "|4  |Strawberry Cake     |\n",
      "+---+--------------------+\n",
      "only showing top 5 rows\n",
      "\n"
     ]
    }
   ],
   "source": [
    "goods.show(5, truncate=False)"
   ]
  },
  {
   "cell_type": "code",
   "execution_count": 29,
   "metadata": {},
   "outputs": [],
   "source": [
    "# Merge both dataframes based on their Item_ID\n",
    "bakery_merge = bakery.join(goods, \"Id\", \"inner\")"
   ]
  },
  {
   "cell_type": "code",
   "execution_count": 30,
   "metadata": {},
   "outputs": [],
   "source": [
    "# Convert the merged dataframe to the required format for FPGrowth\n",
    "bakery_transaction_1 = bakery_merge.groupBy(\"ReceiptId\").agg({\"Flavor_and_Food_name\": \"collect_list\"}) \\\n",
    "                                 .withColumnRenamed(\"collect_list(Flavor_and_Food_name)\", \"items\")"
   ]
  },
  {
   "cell_type": "code",
   "execution_count": 31,
   "metadata": {},
   "outputs": [
    {
     "name": "stdout",
     "output_type": "stream",
     "text": [
      "-RECORD 0------------------------------------------------------------------------------------------------------------\n",
      " ReceiptId | 1                                                                                                       \n",
      " items     | [Ganache Cookie, Apple Pie]                                                                             \n",
      "-RECORD 1------------------------------------------------------------------------------------------------------------\n",
      " ReceiptId | 6                                                                                                       \n",
      " items     | [Casino Cake, Strawberry Cake, Chocolate Croissant]                                                     \n",
      "-RECORD 2------------------------------------------------------------------------------------------------------------\n",
      " ReceiptId | 12                                                                                                      \n",
      " items     | [Casino Cake, Opera Cake, Raspberry Lemonade, Ganache Cookie, Apple Pie, Almond Twist, Single Espresso] \n",
      "only showing top 3 rows\n",
      "\n"
     ]
    }
   ],
   "source": [
    "bakery_transaction_1.show(3, truncate=False, vertical=True)"
   ]
  },
  {
   "cell_type": "code",
   "execution_count": 32,
   "metadata": {},
   "outputs": [],
   "source": [
    "# Fit the FP-growth model\n",
    "fpGrowth_1 = FPGrowth(itemsCol=\"items\", minSupport=0.003, minConfidence=0.003)\n",
    "model_1 = fpGrowth_1.fit(bakery_transaction_1)"
   ]
  },
  {
   "cell_type": "code",
   "execution_count": 33,
   "metadata": {},
   "outputs": [
    {
     "name": "stdout",
     "output_type": "stream",
     "text": [
      "+------------------------------------+----+\n",
      "|items                               |freq|\n",
      "+------------------------------------+----+\n",
      "|[Vanilla Meringue]                  |3179|\n",
      "|[Vanilla Meringue, Lemon Tart]      |252 |\n",
      "|[Vanilla Meringue, Marzipan Cookie] |277 |\n",
      "|[Vanilla Meringue, Cheese Croissant]|260 |\n",
      "|[Vanilla Meringue, Chocolate Tart]  |233 |\n",
      "+------------------------------------+----+\n",
      "only showing top 5 rows\n",
      "\n"
     ]
    }
   ],
   "source": [
    "# Display frequent itemsets.\n",
    "model_1.freqItemsets.show(5, truncate=False)"
   ]
  },
  {
   "cell_type": "code",
   "execution_count": 34,
   "metadata": {},
   "outputs": [],
   "source": [
    "mostPopularItemInABasket_1 = model_1.transform(bakery_transaction_1)"
   ]
  },
  {
   "cell_type": "code",
   "execution_count": 35,
   "metadata": {},
   "outputs": [
    {
     "name": "stdout",
     "output_type": "stream",
     "text": [
      "-RECORD 0-----------------------------------------------------------------------------------------------------------------------------------------------------------------------------------------------------------------------------------------------------------------------------------------------------------------------------------------------------------------------------------------------------------------------------------------------------------------------------------------------------------------------------------------------------------------------------------------------------------------------------------------------------------------------------------------------------------------------------------------------------------\n",
      " ReceiptId  | 1                                                                                                                                                                                                                                                                                                                                                                                                                                                                                                                                                                                                                                                                                                                                                     \n",
      " items      | [Ganache Cookie, Apple Pie]                                                                                                                                                                                                                                                                                                                                                                                                                                                                                                                                                                                                                                                                                                                           \n",
      " prediction | [Lemon Tart, Cheese Croissant, Marzipan Cookie, Lemon Cake, Tuile Cookie, Apricot Danish, Blueberry Tart, Strawberry Cake, Chocolate Coffee, Blackberry Tart, Gongolais Cookie, Truffle Cake, Apricot Croissant, Hot Coffee, Vanilla Frappuccino, Berry Tart, Cherry Tart, Chocolate Cake, Single Espresso, Napoleon Cake, Orange Juice, Bottled Water, Coffee Eclair, Lemon Lemonade, Almond Twist, Opera Cake, Walnut Cookie, Casino Cake, Chocolate Tart]                                                                                                                                                                                                                                                                                          \n",
      "-RECORD 1-----------------------------------------------------------------------------------------------------------------------------------------------------------------------------------------------------------------------------------------------------------------------------------------------------------------------------------------------------------------------------------------------------------------------------------------------------------------------------------------------------------------------------------------------------------------------------------------------------------------------------------------------------------------------------------------------------------------------------------------------------------\n",
      " ReceiptId  | 6                                                                                                                                                                                                                                                                                                                                                                                                                                                                                                                                                                                                                                                                                                                                                     \n",
      " items      | [Casino Cake, Strawberry Cake, Chocolate Croissant]                                                                                                                                                                                                                                                                                                                                                                                                                                                                                                                                                                                                                                                                                                   \n",
      " prediction | [Lemon Tart, Cheese Croissant, Marzipan Cookie, Chocolate Tart, Lemon Cake, Tuile Cookie, Chocolate Coffee, Blackberry Tart, Gongolais Cookie, Truffle Cake, Hot Coffee, Vanilla Frappuccino, Opera Cake, Berry Tart, Chocolate Cake, Cherry Tart, Napoleon Cake, Bottled Water, Orange Juice, Coffee Eclair, Vanilla Meringue, Green Tea, Lemon Lemonade, Almond Tart, Apple Pie, Single Espresso, Pecan Tart, Almond Croissant, Apple Danish, Chocolate Eclair, Chocolate Meringue, Walnut Cookie, Vanilla Eclair, Raspberry Cookie, Apricot Croissant, Cherry Soda, Apple Tart, Raspberry Lemonade, Ganache Cookie, Apple Croissant, Almond Bear Claw, Apricot Tart, Lemon Cookie, Blueberry Danish, Almond Twist, Apricot Danish, Blueberry Tart] \n",
      "-RECORD 2-----------------------------------------------------------------------------------------------------------------------------------------------------------------------------------------------------------------------------------------------------------------------------------------------------------------------------------------------------------------------------------------------------------------------------------------------------------------------------------------------------------------------------------------------------------------------------------------------------------------------------------------------------------------------------------------------------------------------------------------------------------\n",
      " ReceiptId  | 12                                                                                                                                                                                                                                                                                                                                                                                                                                                                                                                                                                                                                                                                                                                                                    \n",
      " items      | [Casino Cake, Opera Cake, Raspberry Lemonade, Ganache Cookie, Apple Pie, Almond Twist, Single Espresso]                                                                                                                                                                                                                                                                                                                                                                                                                                                                                                                                                                                                                                               \n",
      " prediction | [Lemon Tart, Cheese Croissant, Marzipan Cookie, Lemon Cake, Tuile Cookie, Apricot Danish, Blueberry Tart, Strawberry Cake, Chocolate Coffee, Blackberry Tart, Gongolais Cookie, Truffle Cake, Apricot Croissant, Hot Coffee, Vanilla Frappuccino, Berry Tart, Cherry Tart, Chocolate Cake, Napoleon Cake, Orange Juice, Bottled Water, Coffee Eclair, Walnut Cookie, Vanilla Eclair, Chocolate Tart, Lemon Cookie, Green Tea, Raspberry Cookie, Lemon Lemonade, Pecan Tart, Apple Danish, Chocolate Eclair, Chocolate Meringue, Apple Tart, Apple Croissant, Almond Croissant, Chocolate Croissant, Cherry Soda, Almond Bear Claw, Apricot Tart]                                                                                                      \n",
      "only showing top 3 rows\n",
      "\n"
     ]
    }
   ],
   "source": [
    "mostPopularItemInABasket_1.show(3, truncate=False, vertical=True)"
   ]
  },
  {
   "cell_type": "code",
   "execution_count": 36,
   "metadata": {},
   "outputs": [
    {
     "data": {
      "text/plain": [
       "pyspark.sql.dataframe.DataFrame"
      ]
     },
     "execution_count": 36,
     "metadata": {},
     "output_type": "execute_result"
    }
   ],
   "source": [
    "type(mostPopularItemInABasket_1)"
   ]
  },
  {
   "cell_type": "code",
   "execution_count": 37,
   "metadata": {},
   "outputs": [],
   "source": [
    "# chuyển list array thành string\n",
    "from pyspark.sql.types import StringType"
   ]
  },
  {
   "cell_type": "code",
   "execution_count": 38,
   "metadata": {},
   "outputs": [
    {
     "name": "stdout",
     "output_type": "stream",
     "text": [
      "root\n",
      " |-- ReceiptId: integer (nullable = true)\n",
      " |-- items: array (nullable = false)\n",
      " |    |-- element: string (containsNull = false)\n",
      " |-- prediction: array (nullable = true)\n",
      " |    |-- element: string (containsNull = false)\n",
      "\n"
     ]
    }
   ],
   "source": [
    "mostPopularItemInABasket_1.printSchema()"
   ]
  },
  {
   "cell_type": "code",
   "execution_count": 39,
   "metadata": {},
   "outputs": [],
   "source": [
    "mostPopularItemInABasket_1.createOrReplaceTempView(\"popular_items\")"
   ]
  },
  {
   "cell_type": "code",
   "execution_count": 40,
   "metadata": {},
   "outputs": [
    {
     "name": "stdout",
     "output_type": "stream",
     "text": [
      "root\n",
      " |-- ReceiptId: integer (nullable = true)\n",
      " |-- items: string (nullable = false)\n",
      " |-- prediction: string (nullable = true)\n",
      "\n"
     ]
    }
   ],
   "source": [
    "DF_cast = mostPopularItemInABasket_1.select('ReceiptId',  \n",
    " mostPopularItemInABasket_1.items.cast(StringType()),\n",
    " mostPopularItemInABasket_1.prediction.cast(StringType())) \n",
    "DF_cast.printSchema()"
   ]
  },
  {
   "cell_type": "code",
   "execution_count": 41,
   "metadata": {},
   "outputs": [
    {
     "data": {
      "text/plain": [
       "[Row(ReceiptId=1, items='[Ganache Cookie, Apple Pie]', prediction='[Lemon Tart, Cheese Croissant, Marzipan Cookie, Lemon Cake, Tuile Cookie, Apricot Danish, Blueberry Tart, Strawberry Cake, Chocolate Coffee, Blackberry Tart, Gongolais Cookie, Truffle Cake, Apricot Croissant, Hot Coffee, Vanilla Frappuccino, Berry Tart, Cherry Tart, Chocolate Cake, Single Espresso, Napoleon Cake, Orange Juice, Bottled Water, Coffee Eclair, Lemon Lemonade, Almond Twist, Opera Cake, Walnut Cookie, Casino Cake, Chocolate Tart]'),\n",
       " Row(ReceiptId=6, items='[Casino Cake, Strawberry Cake, Chocolate Croissant]', prediction='[Lemon Tart, Cheese Croissant, Marzipan Cookie, Chocolate Tart, Lemon Cake, Tuile Cookie, Chocolate Coffee, Blackberry Tart, Gongolais Cookie, Truffle Cake, Hot Coffee, Vanilla Frappuccino, Opera Cake, Berry Tart, Chocolate Cake, Cherry Tart, Napoleon Cake, Bottled Water, Orange Juice, Coffee Eclair, Vanilla Meringue, Green Tea, Lemon Lemonade, Almond Tart, Apple Pie, Single Espresso, Pecan Tart, Almond Croissant, Apple Danish, Chocolate Eclair, Chocolate Meringue, Walnut Cookie, Vanilla Eclair, Raspberry Cookie, Apricot Croissant, Cherry Soda, Apple Tart, Raspberry Lemonade, Ganache Cookie, Apple Croissant, Almond Bear Claw, Apricot Tart, Lemon Cookie, Blueberry Danish, Almond Twist, Apricot Danish, Blueberry Tart]'),\n",
       " Row(ReceiptId=12, items='[Casino Cake, Opera Cake, Raspberry Lemonade, Ganache Cookie, Apple Pie, Almond Twist, Single Espresso]', prediction='[Lemon Tart, Cheese Croissant, Marzipan Cookie, Lemon Cake, Tuile Cookie, Apricot Danish, Blueberry Tart, Strawberry Cake, Chocolate Coffee, Blackberry Tart, Gongolais Cookie, Truffle Cake, Apricot Croissant, Hot Coffee, Vanilla Frappuccino, Berry Tart, Cherry Tart, Chocolate Cake, Napoleon Cake, Orange Juice, Bottled Water, Coffee Eclair, Walnut Cookie, Vanilla Eclair, Chocolate Tart, Lemon Cookie, Green Tea, Raspberry Cookie, Lemon Lemonade, Pecan Tart, Apple Danish, Chocolate Eclair, Chocolate Meringue, Apple Tart, Apple Croissant, Almond Croissant, Chocolate Croissant, Cherry Soda, Almond Bear Claw, Apricot Tart]')]"
      ]
     },
     "execution_count": 41,
     "metadata": {},
     "output_type": "execute_result"
    }
   ],
   "source": [
    "DF_cast.head(3)"
   ]
  },
  {
   "cell_type": "code",
   "execution_count": 42,
   "metadata": {},
   "outputs": [],
   "source": [
    "DF_cast.toPandas().to_csv('mostPopularItemInABasket_String.csv', index = False)"
   ]
  }
 ],
 "metadata": {
  "kernelspec": {
   "display_name": "Python 3 (ipykernel)",
   "language": "python",
   "name": "python3"
  },
  "language_info": {
   "codemirror_mode": {
    "name": "ipython",
    "version": 3
   },
   "file_extension": ".py",
   "mimetype": "text/x-python",
   "name": "python",
   "nbconvert_exporter": "python",
   "pygments_lexer": "ipython3",
   "version": "3.10.9"
  }
 },
 "nbformat": 4,
 "nbformat_minor": 2
}
