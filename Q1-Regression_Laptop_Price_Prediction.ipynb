{
 "cells": [
  {
   "cell_type": "markdown",
   "metadata": {},
   "source": [
    "# Question 1: Regression - Laptop Price Prediction (1.0 điểm)"
   ]
  },
  {
   "cell_type": "markdown",
   "metadata": {},
   "source": [
    "Use laptop_price_clean.csv dataset (in folder laptop) to build a model to predict \n",
    "\"price of laptop\" (Inputs: select suitable features, Output: Price_euros) \n",
    "Then, make new prediction:\n",
    "- If the information about a latop is as follows:\n",
    "\n",
    "| Company | TypeName  | Ram | OpSys  | Weight | Screen     | IPS Screen| Screen PPI|Cpu_brand | HDD | SSD | Gpu_brand | Os  |\n",
    "|---------|-----------|-----|--------|--------|------------|-----------|-----------|-----------|-----|-----|-----------|-----|\n",
    "| Apple   | Ultrabook | 8   | macOS  | 1.34   | NormalScreen| Yes | 127.677     | Intel Core i7   | 0   | 128 | AMD       | Mac |\n",
    "\n",
    "- What is the price of that laptop?\n",
    "\n",
    "Read more information here:\n",
    "https://www.kaggle.com/datasets/muhammetvarl/laptop-price"
   ]
  },
  {
   "cell_type": "markdown",
   "metadata": {},
   "source": [
    "First thing to do is start a Spark Session"
   ]
  },
  {
   "cell_type": "code",
   "execution_count": 1,
   "metadata": {},
   "outputs": [],
   "source": [
    "import findspark\n",
    "findspark.init()"
   ]
  },
  {
   "cell_type": "code",
   "execution_count": 2,
   "metadata": {},
   "outputs": [],
   "source": [
    "import pyspark\n",
    "from pyspark import SparkContext\n",
    "from pyspark.conf import SparkConf\n",
    "from pyspark.sql import SparkSession"
   ]
  },
  {
   "cell_type": "code",
   "execution_count": 3,
   "metadata": {},
   "outputs": [],
   "source": [
    "spark = SparkSession.builder.appName('Regression_LaptopPrice').getOrCreate()"
   ]
  },
  {
   "cell_type": "code",
   "execution_count": 4,
   "metadata": {},
   "outputs": [],
   "source": [
    "from pyspark.sql.functions import *\n",
    "from pyspark.ml.feature import StringIndexer, VectorAssembler, StandardScaler\n",
    "from pyspark.ml.regression import LinearRegression, RandomForestRegressor\n",
    "from pyspark.ml.evaluation import RegressionEvaluator\n",
    "from pyspark.ml import Pipeline"
   ]
  },
  {
   "cell_type": "code",
   "execution_count": 5,
   "metadata": {},
   "outputs": [],
   "source": [
    "# Use Spark to read in the Ecommerce Customers csv file.\n",
    "data = spark.read.csv(\"laptop/laptop_price_clean.csv\",inferSchema=True,header=True)"
   ]
  },
  {
   "cell_type": "code",
   "execution_count": 6,
   "metadata": {},
   "outputs": [
    {
     "name": "stdout",
     "output_type": "stream",
     "text": [
      "root\n",
      " |-- Company: string (nullable = true)\n",
      " |-- TypeName: string (nullable = true)\n",
      " |-- Ram: integer (nullable = true)\n",
      " |-- OpSys: string (nullable = true)\n",
      " |-- Weight: double (nullable = true)\n",
      " |-- Price_euros: double (nullable = true)\n",
      " |-- Screen: string (nullable = true)\n",
      " |-- IPS Screen: string (nullable = true)\n",
      " |-- Screen PPI: double (nullable = true)\n",
      " |-- Cpu_brand: string (nullable = true)\n",
      " |-- HDD: integer (nullable = true)\n",
      " |-- SSD: integer (nullable = true)\n",
      " |-- Gpu brand: string (nullable = true)\n",
      " |-- os: string (nullable = true)\n",
      "\n"
     ]
    }
   ],
   "source": [
    "# Print the Schema of the DataFrame\n",
    "data.printSchema()"
   ]
  },
  {
   "cell_type": "code",
   "execution_count": 7,
   "metadata": {},
   "outputs": [
    {
     "name": "stdout",
     "output_type": "stream",
     "text": [
      "+-------+---------+---+-----+------+-----------+------------+----------+-----------+-------------+---+---+---------+------------------+\n",
      "|Company| TypeName|Ram|OpSys|Weight|Price_euros|      Screen|IPS Screen| Screen PPI|    Cpu_brand|HDD|SSD|Gpu brand|                os|\n",
      "+-------+---------+---+-----+------+-----------+------------+----------+-----------+-------------+---+---+---------+------------------+\n",
      "|  Apple|Ultrabook|  8|macOS|  1.37|    1339.69|NormalScreen|       Yes|226.9830047|Intel Core i5|  0|128|    Intel|               Mac|\n",
      "|  Apple|Ultrabook|  8|macOS|  1.34|     898.94|NormalScreen|        No|127.6779401|Intel Core i5|  0|  0|    Intel|               Mac|\n",
      "|     HP| Notebook|  8|No OS|  1.86|      575.0|NormalScreen|        No|141.2119981|Intel Core i5|  0|256|    Intel|Others/No OS/Linux|\n",
      "|  Apple|Ultrabook| 16|macOS|  1.83|    2537.45|NormalScreen|       Yes|220.5346239|Intel Core i7|  0|512|      AMD|               Mac|\n",
      "|  Apple|Ultrabook|  8|macOS|  1.37|     1803.6|NormalScreen|       Yes|226.9830047|Intel Core i5|  0|256|    Intel|               Mac|\n",
      "+-------+---------+---+-----+------+-----------+------------+----------+-----------+-------------+---+---+---------+------------------+\n",
      "only showing top 5 rows\n",
      "\n"
     ]
    }
   ],
   "source": [
    "data.show(5)"
   ]
  },
  {
   "cell_type": "code",
   "execution_count": 8,
   "metadata": {},
   "outputs": [
    {
     "data": {
      "text/plain": [
       "Row(Company='Apple', TypeName='Ultrabook', Ram=8, OpSys='macOS', Weight=1.37, Price_euros=1339.69, Screen='NormalScreen', IPS Screen='Yes', Screen PPI=226.9830047, Cpu_brand='Intel Core i5', HDD=0, SSD=128, Gpu brand='Intel', os='Mac')"
      ]
     },
     "execution_count": 8,
     "metadata": {},
     "output_type": "execute_result"
    }
   ],
   "source": [
    "data.head()"
   ]
  },
  {
   "cell_type": "code",
   "execution_count": 9,
   "metadata": {},
   "outputs": [
    {
     "name": "stdout",
     "output_type": "stream",
     "text": [
      "Apple\n",
      "Ultrabook\n",
      "8\n",
      "macOS\n",
      "1.37\n",
      "1339.69\n",
      "NormalScreen\n",
      "Yes\n",
      "226.9830047\n",
      "Intel Core i5\n",
      "0\n",
      "128\n",
      "Intel\n",
      "Mac\n"
     ]
    }
   ],
   "source": [
    "for item in data.head():\n",
    "    print(item)"
   ]
  },
  {
   "cell_type": "code",
   "execution_count": 10,
   "metadata": {},
   "outputs": [
    {
     "data": {
      "text/html": [
       "<div>\n",
       "<style scoped>\n",
       "    .dataframe tbody tr th:only-of-type {\n",
       "        vertical-align: middle;\n",
       "    }\n",
       "\n",
       "    .dataframe tbody tr th {\n",
       "        vertical-align: top;\n",
       "    }\n",
       "\n",
       "    .dataframe thead th {\n",
       "        text-align: right;\n",
       "    }\n",
       "</style>\n",
       "<table border=\"1\" class=\"dataframe\">\n",
       "  <thead>\n",
       "    <tr style=\"text-align: right;\">\n",
       "      <th></th>\n",
       "      <th>0</th>\n",
       "    </tr>\n",
       "  </thead>\n",
       "  <tbody>\n",
       "    <tr>\n",
       "      <th>Company</th>\n",
       "      <td>0</td>\n",
       "    </tr>\n",
       "    <tr>\n",
       "      <th>TypeName</th>\n",
       "      <td>0</td>\n",
       "    </tr>\n",
       "    <tr>\n",
       "      <th>Ram</th>\n",
       "      <td>0</td>\n",
       "    </tr>\n",
       "    <tr>\n",
       "      <th>OpSys</th>\n",
       "      <td>0</td>\n",
       "    </tr>\n",
       "    <tr>\n",
       "      <th>Weight</th>\n",
       "      <td>0</td>\n",
       "    </tr>\n",
       "    <tr>\n",
       "      <th>Price_euros</th>\n",
       "      <td>0</td>\n",
       "    </tr>\n",
       "    <tr>\n",
       "      <th>Screen</th>\n",
       "      <td>0</td>\n",
       "    </tr>\n",
       "    <tr>\n",
       "      <th>IPS Screen</th>\n",
       "      <td>0</td>\n",
       "    </tr>\n",
       "    <tr>\n",
       "      <th>Screen PPI</th>\n",
       "      <td>0</td>\n",
       "    </tr>\n",
       "    <tr>\n",
       "      <th>Cpu_brand</th>\n",
       "      <td>0</td>\n",
       "    </tr>\n",
       "    <tr>\n",
       "      <th>HDD</th>\n",
       "      <td>0</td>\n",
       "    </tr>\n",
       "    <tr>\n",
       "      <th>SSD</th>\n",
       "      <td>0</td>\n",
       "    </tr>\n",
       "    <tr>\n",
       "      <th>Gpu brand</th>\n",
       "      <td>0</td>\n",
       "    </tr>\n",
       "    <tr>\n",
       "      <th>os</th>\n",
       "      <td>0</td>\n",
       "    </tr>\n",
       "  </tbody>\n",
       "</table>\n",
       "</div>"
      ],
      "text/plain": [
       "             0\n",
       "Company      0\n",
       "TypeName     0\n",
       "Ram          0\n",
       "OpSys        0\n",
       "Weight       0\n",
       "Price_euros  0\n",
       "Screen       0\n",
       "IPS Screen   0\n",
       "Screen PPI   0\n",
       "Cpu_brand    0\n",
       "HDD          0\n",
       "SSD          0\n",
       "Gpu brand    0\n",
       "os           0"
      ]
     },
     "execution_count": 10,
     "metadata": {},
     "output_type": "execute_result"
    }
   ],
   "source": [
    "#3. Kiểm tra dữ liệu NaN, null\n",
    "data.select([count(when(isnan(c), c)).alias(c) for c in data.columns]).toPandas().T"
   ]
  },
  {
   "cell_type": "code",
   "execution_count": 11,
   "metadata": {},
   "outputs": [
    {
     "data": {
      "text/html": [
       "<div>\n",
       "<style scoped>\n",
       "    .dataframe tbody tr th:only-of-type {\n",
       "        vertical-align: middle;\n",
       "    }\n",
       "\n",
       "    .dataframe tbody tr th {\n",
       "        vertical-align: top;\n",
       "    }\n",
       "\n",
       "    .dataframe thead th {\n",
       "        text-align: right;\n",
       "    }\n",
       "</style>\n",
       "<table border=\"1\" class=\"dataframe\">\n",
       "  <thead>\n",
       "    <tr style=\"text-align: right;\">\n",
       "      <th></th>\n",
       "      <th>0</th>\n",
       "    </tr>\n",
       "  </thead>\n",
       "  <tbody>\n",
       "    <tr>\n",
       "      <th>Company</th>\n",
       "      <td>0</td>\n",
       "    </tr>\n",
       "    <tr>\n",
       "      <th>TypeName</th>\n",
       "      <td>0</td>\n",
       "    </tr>\n",
       "    <tr>\n",
       "      <th>Ram</th>\n",
       "      <td>0</td>\n",
       "    </tr>\n",
       "    <tr>\n",
       "      <th>OpSys</th>\n",
       "      <td>0</td>\n",
       "    </tr>\n",
       "    <tr>\n",
       "      <th>Weight</th>\n",
       "      <td>0</td>\n",
       "    </tr>\n",
       "    <tr>\n",
       "      <th>Price_euros</th>\n",
       "      <td>0</td>\n",
       "    </tr>\n",
       "    <tr>\n",
       "      <th>Screen</th>\n",
       "      <td>0</td>\n",
       "    </tr>\n",
       "    <tr>\n",
       "      <th>IPS Screen</th>\n",
       "      <td>0</td>\n",
       "    </tr>\n",
       "    <tr>\n",
       "      <th>Screen PPI</th>\n",
       "      <td>0</td>\n",
       "    </tr>\n",
       "    <tr>\n",
       "      <th>Cpu_brand</th>\n",
       "      <td>0</td>\n",
       "    </tr>\n",
       "    <tr>\n",
       "      <th>HDD</th>\n",
       "      <td>0</td>\n",
       "    </tr>\n",
       "    <tr>\n",
       "      <th>SSD</th>\n",
       "      <td>0</td>\n",
       "    </tr>\n",
       "    <tr>\n",
       "      <th>Gpu brand</th>\n",
       "      <td>0</td>\n",
       "    </tr>\n",
       "    <tr>\n",
       "      <th>os</th>\n",
       "      <td>0</td>\n",
       "    </tr>\n",
       "  </tbody>\n",
       "</table>\n",
       "</div>"
      ],
      "text/plain": [
       "             0\n",
       "Company      0\n",
       "TypeName     0\n",
       "Ram          0\n",
       "OpSys        0\n",
       "Weight       0\n",
       "Price_euros  0\n",
       "Screen       0\n",
       "IPS Screen   0\n",
       "Screen PPI   0\n",
       "Cpu_brand    0\n",
       "HDD          0\n",
       "SSD          0\n",
       "Gpu brand    0\n",
       "os           0"
      ]
     },
     "execution_count": 11,
     "metadata": {},
     "output_type": "execute_result"
    }
   ],
   "source": [
    "data.select([count(when(col(c).isNull(), c)).alias(c) for c in data.columns]).toPandas().T"
   ]
  },
  {
   "cell_type": "markdown",
   "metadata": {},
   "source": [
    "=> Không có nan, null"
   ]
  },
  {
   "cell_type": "code",
   "execution_count": 12,
   "metadata": {},
   "outputs": [],
   "source": [
    "#4. Kiểm tra dữ liệu trùng. \n",
    "num_rows = data.count()\n",
    "num_dist_rows = data.distinct().count()\n",
    "dup_rows = num_rows - num_dist_rows"
   ]
  },
  {
   "cell_type": "code",
   "execution_count": 13,
   "metadata": {},
   "outputs": [
    {
     "data": {
      "text/plain": [
       "1302"
      ]
     },
     "metadata": {},
     "output_type": "display_data"
    },
    {
     "data": {
      "text/plain": [
       "1273"
      ]
     },
     "metadata": {},
     "output_type": "display_data"
    },
    {
     "data": {
      "text/plain": [
       "29"
      ]
     },
     "metadata": {},
     "output_type": "display_data"
    }
   ],
   "source": [
    "display(num_rows, num_dist_rows, dup_rows)"
   ]
  },
  {
   "cell_type": "code",
   "execution_count": 14,
   "metadata": {},
   "outputs": [],
   "source": [
    "# Xóa dữ liệu trùng.\n",
    "data = data.drop_duplicates()"
   ]
  },
  {
   "cell_type": "code",
   "execution_count": 15,
   "metadata": {},
   "outputs": [
    {
     "data": {
      "text/plain": [
       "1273"
      ]
     },
     "execution_count": 15,
     "metadata": {},
     "output_type": "execute_result"
    }
   ],
   "source": [
    "data.count()"
   ]
  },
  {
   "cell_type": "markdown",
   "metadata": {},
   "source": [
    "## Spark Formatting of Data"
   ]
  },
  {
   "cell_type": "code",
   "execution_count": 16,
   "metadata": {},
   "outputs": [],
   "source": [
    "# Create a StringIndexer for categorical features\n",
    "indexers = [\n",
    "    StringIndexer(inputCol=column, outputCol=column+\"_index\").fit(data)\n",
    "    for column in [\"Company\", \"TypeName\", \"OpSys\", 'Screen', 'IPS Screen',\"Cpu_brand\", \"Gpu brand\", \"os\"]\n",
    "]"
   ]
  },
  {
   "cell_type": "code",
   "execution_count": 17,
   "metadata": {},
   "outputs": [],
   "source": [
    "# Assemble features\n",
    "assembler = VectorAssembler(\n",
    "    inputCols=['Ram', 'Weight', 'Screen PPI', 'HDD', 'SSD', 'Company_index', 'TypeName_index', 'OpSys_index', 'Screen_index', 'IPS Screen_index', 'Cpu_brand_index', 'Gpu brand_index', 'os_index'],\n",
    "    outputCol='features')"
   ]
  },
  {
   "cell_type": "code",
   "execution_count": 18,
   "metadata": {},
   "outputs": [],
   "source": [
    "# Create a StandardScaler for numeric features\n",
    "scaler = StandardScaler(inputCol=\"features\", outputCol=\"features_scaled\", withStd=True, withMean=True)"
   ]
  },
  {
   "cell_type": "code",
   "execution_count": 19,
   "metadata": {},
   "outputs": [],
   "source": [
    "# Create pipeline\n",
    "pipeline = Pipeline(stages=indexers + [assembler, scaler])"
   ]
  },
  {
   "cell_type": "code",
   "execution_count": 20,
   "metadata": {},
   "outputs": [],
   "source": [
    "# Fit and transform data\n",
    "model = pipeline.fit(data)\n",
    "data_pre = model.transform(data)"
   ]
  },
  {
   "cell_type": "code",
   "execution_count": 21,
   "metadata": {},
   "outputs": [
    {
     "name": "stdout",
     "output_type": "stream",
     "text": [
      "+----------------------------------------------------------------------------------------------------------------------------------------------------------------------------------------------------------------------------------------------------------------------+\n",
      "|features_scaled                                                                                                                                                                                                                                                       |\n",
      "+----------------------------------------------------------------------------------------------------------------------------------------------------------------------------------------------------------------------------------------------------------------------+\n",
      "|[-0.08781747519530542,-0.24072008344791684,-0.13368845240395108,-0.7985948264202817,1.7463373711913306,-0.8872357946577107,0.8640185965926662,-0.3831512042929425,-0.4147966540203555,-0.6228302320631895,-0.9079225200382877,-0.8131085925318575,-0.3782901330104873]|\n",
      "|[-0.08781747519530542,0.9098369333088935,-0.13368845240395108,-0.7985948264202817,0.3739155449395091,-0.8872357946577107,0.06351228402900955,-0.3831512042929425,-0.4147966540203555,-0.6228302320631895,-0.04987844579274902,0.5781376954964417,-0.3782901330104873] |\n",
      "+----------------------------------------------------------------------------------------------------------------------------------------------------------------------------------------------------------------------------------------------------------------------+\n",
      "only showing top 2 rows\n",
      "\n"
     ]
    }
   ],
   "source": [
    "data_pre.select(\"features_scaled\").show(2, False)"
   ]
  },
  {
   "cell_type": "code",
   "execution_count": 22,
   "metadata": {},
   "outputs": [
    {
     "name": "stdout",
     "output_type": "stream",
     "text": [
      "+-------+---------+---+----------+------+-----------+------------+----------+-----------+-------------+---+---+---------+-------+-------------+--------------+-----------+------------+----------------+---------------+---------------+--------+--------------------+--------------------+\n",
      "|Company| TypeName|Ram|     OpSys|Weight|Price_euros|      Screen|IPS Screen| Screen PPI|    Cpu_brand|HDD|SSD|Gpu brand|     os|Company_index|TypeName_index|OpSys_index|Screen_index|IPS Screen_index|Cpu_brand_index|Gpu brand_index|os_index|            features|     features_scaled|\n",
      "+-------+---------+---+----------+------+-----------+------------+----------+-----------+-------------+---+---+---------+-------+-------------+--------------+-----------+------------+----------------+---------------+---------------+--------+--------------------+--------------------+\n",
      "|   Dell|Ultrabook|  8|Windows 10|  1.88|     1298.0|NormalScreen|        No|141.2119981|Intel Core i7|  0|512|    Intel|Windows|          0.0|           2.0|        0.0|         0.0|             0.0|            0.0|            0.0|     0.0|(13,[0,1,2,4,6],[...|[-0.0878174751953...|\n",
      "|   Dell|   Gaming|  8|Windows 10|  2.65|     1195.0|NormalScreen|        No|141.2119981|Intel Core i5|  0|256|   Nvidia|Windows|          0.0|           1.0|        0.0|         0.0|             0.0|            1.0|            1.0|     0.0|(13,[0,1,2,4,6,10...|[-0.0878174751953...|\n",
      "+-------+---------+---+----------+------+-----------+------------+----------+-----------+-------------+---+---+---------+-------+-------------+--------------+-----------+------------+----------------+---------------+---------------+--------+--------------------+--------------------+\n",
      "only showing top 2 rows\n",
      "\n"
     ]
    }
   ],
   "source": [
    "data_pre.show(2)"
   ]
  },
  {
   "cell_type": "code",
   "execution_count": 23,
   "metadata": {},
   "outputs": [],
   "source": [
    "final_data = data_pre.select('features_scaled', 'Price_euros')"
   ]
  },
  {
   "cell_type": "code",
   "execution_count": 24,
   "metadata": {},
   "outputs": [],
   "source": [
    "train_data,test_data = final_data.randomSplit([0.7,0.3])"
   ]
  },
  {
   "cell_type": "code",
   "execution_count": 25,
   "metadata": {},
   "outputs": [
    {
     "name": "stdout",
     "output_type": "stream",
     "text": [
      "+-------+------------------+\n",
      "|summary|       Price_euros|\n",
      "+-------+------------------+\n",
      "|  count|               898|\n",
      "|   mean|1134.0044432071272|\n",
      "| stddev| 686.7726422596256|\n",
      "|    min|             174.0|\n",
      "|    max|            5499.0|\n",
      "+-------+------------------+\n",
      "\n"
     ]
    }
   ],
   "source": [
    "train_data.describe().show()"
   ]
  },
  {
   "cell_type": "code",
   "execution_count": 26,
   "metadata": {},
   "outputs": [
    {
     "name": "stdout",
     "output_type": "stream",
     "text": [
      "+-------+------------------+\n",
      "|summary|       Price_euros|\n",
      "+-------+------------------+\n",
      "|  count|               375|\n",
      "|   mean|1140.5908266666663|\n",
      "| stddev| 734.3754296210716|\n",
      "|    min|             196.0|\n",
      "|    max|            6099.0|\n",
      "+-------+------------------+\n",
      "\n"
     ]
    }
   ],
   "source": [
    "test_data.describe().show()"
   ]
  },
  {
   "cell_type": "markdown",
   "metadata": {},
   "source": [
    "## The Regression Models"
   ]
  },
  {
   "cell_type": "code",
   "execution_count": 27,
   "metadata": {},
   "outputs": [],
   "source": [
    "lr = LinearRegression(featuresCol=\"features_scaled\",  labelCol='Price_euros', predictionCol='Predict_Price_euros')\n",
    "rf = RandomForestRegressor(featuresCol=\"features_scaled\", labelCol=\"Price_euros\", predictionCol='Predict_Price_euros', seed=42, maxDepth=10)"
   ]
  },
  {
   "cell_type": "code",
   "execution_count": 28,
   "metadata": {},
   "outputs": [],
   "source": [
    "# Fit the model to the data \n",
    "lrModel = lr.fit(train_data,)\n",
    "rfModel = rf.fit(train_data,)\n"
   ]
  },
  {
   "cell_type": "markdown",
   "metadata": {},
   "source": [
    "## Model Comparison\n",
    "\n",
    "Let's compare each of these models!"
   ]
  },
  {
   "cell_type": "code",
   "execution_count": 29,
   "metadata": {},
   "outputs": [],
   "source": [
    "# Make predictions\n",
    "rf_test_model = rfModel.transform(test_data)\n",
    "lr_test_model = lrModel.transform(test_data)"
   ]
  },
  {
   "cell_type": "code",
   "execution_count": 30,
   "metadata": {},
   "outputs": [
    {
     "name": "stdout",
     "output_type": "stream",
     "text": [
      "Some Linear Regression model predictions\n",
      "+-----------+-------------------+\n",
      "|Price_euros|Predict_Price_euros|\n",
      "+-----------+-------------------+\n",
      "|      275.0|  325.1122112179487|\n",
      "|      245.0|  234.2854549731183|\n",
      "|      209.0| 268.70306900820594|\n",
      "|      249.0| 282.59239739736074|\n",
      "|      210.8| 272.21977575757575|\n",
      "|      199.0| 385.73522655918964|\n",
      "|      379.0|    328.46748593518|\n",
      "|      479.0|  672.3121153846154|\n",
      "|     646.27|  672.3121153846154|\n",
      "|      319.0|  706.1341153846154|\n",
      "+-----------+-------------------+\n",
      "only showing top 10 rows\n",
      "\n"
     ]
    }
   ],
   "source": [
    "print(\"Some Linear Regression model predictions\")\n",
    "rf_test_model.select(\"Price_euros\", \"Predict_Price_euros\").show(10)"
   ]
  },
  {
   "cell_type": "code",
   "execution_count": 31,
   "metadata": {},
   "outputs": [
    {
     "name": "stdout",
     "output_type": "stream",
     "text": [
      "Some Random Forest Regressor model predictions\n",
      "+-----------+-------------------+\n",
      "|Price_euros|Predict_Price_euros|\n",
      "+-----------+-------------------+\n",
      "|      275.0|  325.1122112179487|\n",
      "|      245.0|  234.2854549731183|\n",
      "|      209.0| 268.70306900820594|\n",
      "|      249.0| 282.59239739736074|\n",
      "|      210.8| 272.21977575757575|\n",
      "|      199.0| 385.73522655918964|\n",
      "|      379.0|    328.46748593518|\n",
      "|      479.0|  672.3121153846154|\n",
      "|     646.27|  672.3121153846154|\n",
      "|      319.0|  706.1341153846154|\n",
      "+-----------+-------------------+\n",
      "only showing top 10 rows\n",
      "\n"
     ]
    }
   ],
   "source": [
    "print(\"Some Random Forest Regressor model predictions\")\n",
    "rf_test_model.select(\"Price_euros\", \"Predict_Price_euros\").show(10)"
   ]
  },
  {
   "cell_type": "code",
   "execution_count": 32,
   "metadata": {},
   "outputs": [],
   "source": [
    "evaluator = RegressionEvaluator(labelCol=\"Price_euros\", predictionCol=\"Predict_Price_euros\")"
   ]
  },
  {
   "cell_type": "code",
   "execution_count": 33,
   "metadata": {},
   "outputs": [
    {
     "name": "stdout",
     "output_type": "stream",
     "text": [
      "Model Linear Regression :\n",
      "RMSE on test data:  361.7424934709763\n",
      "MSE on test data:  130857.63158259934\n",
      "R2 on test data:  0.7567110157791419\n"
     ]
    }
   ],
   "source": [
    "print('Model Linear Regression :')\n",
    "print(\"RMSE on test data: \", evaluator.evaluate(lr_test_model, {evaluator.metricName: \"rmse\"}))\n",
    "print(\"MSE on test data: \", evaluator.evaluate(lr_test_model, {evaluator.metricName: \"mse\"}))\n",
    "print(\"R2 on test data: \", evaluator.evaluate(lr_test_model, {evaluator.metricName: \"r2\"}))"
   ]
  },
  {
   "cell_type": "code",
   "execution_count": 34,
   "metadata": {},
   "outputs": [
    {
     "name": "stdout",
     "output_type": "stream",
     "text": [
      "Model Random Forest Regressor:\n",
      "RMSE on test data:  313.9657640809379\n",
      "MSE on test data:  98574.50101492717\n",
      "R2 on test data:  0.8167314360503177\n"
     ]
    }
   ],
   "source": [
    "print('Model Random Forest Regressor:')\n",
    "print(\"RMSE on test data: \", evaluator.evaluate(rf_test_model, {evaluator.metricName: \"rmse\"}))\n",
    "print(\"MSE on test data: \", evaluator.evaluate(rf_test_model, {evaluator.metricName: \"mse\"}))\n",
    "print(\"R2 on test data: \", evaluator.evaluate(rf_test_model, {evaluator.metricName: \"r2\"}))"
   ]
  },
  {
   "cell_type": "markdown",
   "metadata": {},
   "source": [
    "| Metric                   | Linear Regression | Random Forest Regressor |\n",
    "|--------------------------|-------------------|-------------------------|\n",
    "| **RMSE on test data**    | 361.742           | 313.965                 |\n",
    "| **MSE on test data**     | 130857.631        | 98574.501              |\n",
    "| **R^2 on test data**     | 75.67%            | 81.67%                  |\n",
    "\n",
    "\n",
    "So sánh:\n",
    "\n",
    "- RMSE: Model Random Forest Regressor có RMSE thấp hơn => Model Random Forest Regressor có khả năng dự đoán chính xác hơn trên dữ liệu test.\n",
    "- MSE: Tương tự như RMSE, MSE của Model Random Forest Regressor cũng thấp hơn\n",
    "- R^2: Model Random Forest Regressor có R^2 cao hơn, điều này cho thấy Model Random Forest Regressor giải thích được sự biến thiên của dữ liệu tốt hơn so với Model Linear Regression.\n",
    "#### Kết luận: Model Random Forest Regressor là lựa chọn tốt hơn vì nó có các chỉ số đánh giá (RMSE, MSE và R^2) tốt hơn trên dữ liệu test so với Model Linear Regression.\n",
    "\n",
    "=> Chọn Model Random Forest Regressor"
   ]
  },
  {
   "cell_type": "code",
   "execution_count": 35,
   "metadata": {},
   "outputs": [],
   "source": [
    "# Save model\n",
    "rfModel.save('rfModel_laptop_price')"
   ]
  },
  {
   "cell_type": "code",
   "execution_count": 36,
   "metadata": {},
   "outputs": [],
   "source": [
    "from pyspark.ml.regression import RandomForestRegressionModel\n",
    "# Load model from\n",
    "rfModel2 = RandomForestRegressionModel.load('rfModel_laptop_price')"
   ]
  },
  {
   "cell_type": "markdown",
   "metadata": {},
   "source": [
    "# Predict new values"
   ]
  },
  {
   "cell_type": "markdown",
   "metadata": {},
   "source": [
    "| Company | TypeName  | Ram | OpSys  | Weight | Screen     | IPS Screen| Screen PPI|Cpu_brand | HDD | SSD | Gpu_brand | Os  |\n",
    "|---------|-----------|-----|--------|--------|------------|-----------|-----------|-----------|-----|-----|-----------|-----|\n",
    "| Apple   | Ultrabook | 8   | macOS  | 1.34   | NormalScreen| Yes | 127.677     | Intel Core i7   | 0   | 128 | AMD       | Mac |"
   ]
  },
  {
   "cell_type": "code",
   "execution_count": 37,
   "metadata": {},
   "outputs": [],
   "source": [
    "# Predict new values\n",
    "new_laptop_data = spark.createDataFrame([\n",
    "    (\"Apple\", \"Ultrabook\", 8, \"macOS\", 1.34, \"NormalScreen\", \"Yes\", 127.677 ,\"Intel Core i7\", 0, 128, \"AMD\", \"Mac\")\n",
    "], [\"Company\", \"TypeName\", \"Ram\", \"OpSys\", \"Weight\", \"Screen\", \"IPS Screen\", \"Screen PPI\", \"Cpu_brand\", \"HDD\", \"SSD\", \"Gpu brand\", \"os\"])\n"
   ]
  },
  {
   "cell_type": "code",
   "execution_count": 38,
   "metadata": {},
   "outputs": [],
   "source": [
    "# transform data\n",
    "new_data_pre = model.transform(new_laptop_data)"
   ]
  },
  {
   "cell_type": "code",
   "execution_count": 39,
   "metadata": {},
   "outputs": [
    {
     "name": "stdout",
     "output_type": "stream",
     "text": [
      "+----------------------------------------------------------------------------------------------------------------------------------------------------------------------------------------------------------------------------------------------------------------+\n",
      "|features_scaled                                                                                                                                                                                                                                                 |\n",
      "+----------------------------------------------------------------------------------------------------------------------------------------------------------------------------------------------------------------------------------------------------------------+\n",
      "|[-0.08781747519530542,-1.0476042250695756,-0.44899278145609417,-0.7985948264202817,-0.31229536818640175,1.7729789315182192,0.8640185965926662,3.641200966209663,-0.4147966540203555,1.6043127044998449,-0.9079225200382877,1.9693839835247409,4.586280375467351]|\n",
      "+----------------------------------------------------------------------------------------------------------------------------------------------------------------------------------------------------------------------------------------------------------------+\n",
      "\n"
     ]
    }
   ],
   "source": [
    "new_data_pre.select(\"features_scaled\").show(2, False)"
   ]
  },
  {
   "cell_type": "code",
   "execution_count": 40,
   "metadata": {},
   "outputs": [
    {
     "name": "stdout",
     "output_type": "stream",
     "text": [
      "+-------+---------+---+-----+------+------------+----------+----------+-------------+---+---+---------+---+-------------+--------------+-----------+------------+----------------+---------------+---------------+--------+--------------------+--------------------+\n",
      "|Company| TypeName|Ram|OpSys|Weight|      Screen|IPS Screen|Screen PPI|    Cpu_brand|HDD|SSD|Gpu brand| os|Company_index|TypeName_index|OpSys_index|Screen_index|IPS Screen_index|Cpu_brand_index|Gpu brand_index|os_index|            features|     features_scaled|\n",
      "+-------+---------+---+-----+------+------------+----------+----------+-------------+---+---+---------+---+-------------+--------------+-----------+------------+----------------+---------------+---------------+--------+--------------------+--------------------+\n",
      "|  Apple|Ultrabook|  8|macOS|  1.34|NormalScreen|       Yes|   127.677|Intel Core i7|  0|128|      AMD|Mac|          7.0|           2.0|        5.0|         0.0|             1.0|            0.0|            2.0|     2.0|[8.0,1.34,127.677...|[-0.0878174751953...|\n",
      "+-------+---------+---+-----+------+------------+----------+----------+-------------+---+---+---------+---+-------------+--------------+-----------+------------+----------------+---------------+---------------+--------+--------------------+--------------------+\n",
      "\n"
     ]
    }
   ],
   "source": [
    "new_data_pre.show(2)"
   ]
  },
  {
   "cell_type": "code",
   "execution_count": 41,
   "metadata": {},
   "outputs": [],
   "source": [
    "new_prediction = rfModel.transform(new_data_pre)"
   ]
  },
  {
   "cell_type": "code",
   "execution_count": 42,
   "metadata": {},
   "outputs": [
    {
     "name": "stdout",
     "output_type": "stream",
     "text": [
      "+-------+---------+---+-----+------+------------+----------+----------+-------------+---+---+---------+---+-------------+--------------+-----------+------------+----------------+---------------+---------------+--------+--------------------+--------------------+-------------------+\n",
      "|Company| TypeName|Ram|OpSys|Weight|      Screen|IPS Screen|Screen PPI|    Cpu_brand|HDD|SSD|Gpu brand| os|Company_index|TypeName_index|OpSys_index|Screen_index|IPS Screen_index|Cpu_brand_index|Gpu brand_index|os_index|            features|     features_scaled|Predict_Price_euros|\n",
      "+-------+---------+---+-----+------+------------+----------+----------+-------------+---+---+---------+---+-------------+--------------+-----------+------------+----------------+---------------+---------------+--------+--------------------+--------------------+-------------------+\n",
      "|  Apple|Ultrabook|  8|macOS|  1.34|NormalScreen|       Yes|   127.677|Intel Core i7|  0|128|      AMD|Mac|          7.0|           2.0|        5.0|         0.0|             1.0|            0.0|            2.0|     2.0|[8.0,1.34,127.677...|[-0.0878174751953...| 1401.9612500000003|\n",
      "+-------+---------+---+-----+------+------------+----------+----------+-------------+---+---+---------+---+-------------+--------------+-----------+------------+----------------+---------------+---------------+--------+--------------------+--------------------+-------------------+\n",
      "\n"
     ]
    }
   ],
   "source": [
    "new_prediction.show()"
   ]
  },
  {
   "cell_type": "code",
   "execution_count": 43,
   "metadata": {},
   "outputs": [
    {
     "name": "stdout",
     "output_type": "stream",
     "text": [
      "The predicted price of the given laptop is: 1401.9612500000003 euros\n"
     ]
    }
   ],
   "source": [
    "# Show the predicted price\n",
    "predicted_price = new_prediction.select(\"Predict_Price_euros\").collect()[0][0]\n",
    "print(f\"The predicted price of the given laptop is: {predicted_price} euros\")"
   ]
  }
 ],
 "metadata": {
  "kernelspec": {
   "display_name": "Python 3 (ipykernel)",
   "language": "python",
   "name": "python3"
  },
  "language_info": {
   "codemirror_mode": {
    "name": "ipython",
    "version": 3
   },
   "file_extension": ".py",
   "mimetype": "text/x-python",
   "name": "python",
   "nbconvert_exporter": "python",
   "pygments_lexer": "ipython3",
   "version": "3.10.9"
  }
 },
 "nbformat": 4,
 "nbformat_minor": 2
}
