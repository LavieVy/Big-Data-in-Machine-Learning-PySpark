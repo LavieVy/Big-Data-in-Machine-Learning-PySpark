{
 "cells": [
  {
   "cell_type": "markdown",
   "metadata": {},
   "source": [
    "# Question 2: Classification – Home Loan Approval (1.0 mark)"
   ]
  },
  {
   "cell_type": "markdown",
   "metadata": {},
   "source": [
    "##  Ex1: College"
   ]
  },
  {
   "cell_type": "markdown",
   "metadata": {},
   "source": [
    "Use loan_sanction_train.csv dataset (in folder HomeLoan) to build a model to predict \"Whether a customer will be approved for a loan or not\" (Inputs: select suitable features, Output: Loan_Status) \n",
    "Then, make new prediction for the new customers in loan_sanction_test.csv (in folder HomeLoan):\n",
    "- Will they be approved for a loan or not?\n",
    "Read more information here:\n",
    "https://www.kaggle.com/datasets/rishikeshkonapure/home-loan-approval/data"
   ]
  },
  {
   "cell_type": "markdown",
   "metadata": {},
   "source": [
    "First thing to do is start a Spark Session"
   ]
  },
  {
   "cell_type": "code",
   "execution_count": 1,
   "metadata": {},
   "outputs": [],
   "source": [
    "import findspark\n",
    "findspark.init()"
   ]
  },
  {
   "cell_type": "code",
   "execution_count": 2,
   "metadata": {},
   "outputs": [],
   "source": [
    "from pyspark.sql import SparkSession"
   ]
  },
  {
   "cell_type": "code",
   "execution_count": 3,
   "metadata": {},
   "outputs": [
    {
     "data": {
      "text/html": [
       "\n",
       "            <div>\n",
       "                <p><b>SparkSession - in-memory</b></p>\n",
       "                \n",
       "        <div>\n",
       "            <p><b>SparkContext</b></p>\n",
       "\n",
       "            <p><a href=\"http://DESKTOP-U0BRSSO:4042\">Spark UI</a></p>\n",
       "\n",
       "            <dl>\n",
       "              <dt>Version</dt>\n",
       "                <dd><code>v3.5.1</code></dd>\n",
       "              <dt>Master</dt>\n",
       "                <dd><code>local[*]</code></dd>\n",
       "              <dt>AppName</dt>\n",
       "                <dd><code>homeloan</code></dd>\n",
       "            </dl>\n",
       "        </div>\n",
       "        \n",
       "            </div>\n",
       "        "
      ],
      "text/plain": [
       "<pyspark.sql.session.SparkSession at 0x1d720defc10>"
      ]
     },
     "execution_count": 3,
     "metadata": {},
     "output_type": "execute_result"
    }
   ],
   "source": [
    "spark = SparkSession.builder.appName('homeloan').getOrCreate()\n",
    "spark"
   ]
  },
  {
   "cell_type": "code",
   "execution_count": 4,
   "metadata": {},
   "outputs": [],
   "source": [
    "from pyspark.ml.feature import StringIndexer, OneHotEncoder\n",
    "from pyspark.ml import Pipeline\n",
    "from pyspark.ml.feature import VectorAssembler\n",
    "from pyspark.sql.functions import *\n",
    "from pyspark.ml.feature import StringIndexer, OneHotEncoder, VectorAssembler, StandardScaler"
   ]
  },
  {
   "cell_type": "code",
   "execution_count": 5,
   "metadata": {},
   "outputs": [],
   "source": [
    "# Load training data\n",
    "data = spark.read.csv('HomeLoan/loan_sanction_train.csv',inferSchema=True,header=True)"
   ]
  },
  {
   "cell_type": "code",
   "execution_count": 6,
   "metadata": {},
   "outputs": [
    {
     "data": {
      "text/plain": [
       "614"
      ]
     },
     "execution_count": 6,
     "metadata": {},
     "output_type": "execute_result"
    }
   ],
   "source": [
    "data.count()"
   ]
  },
  {
   "cell_type": "code",
   "execution_count": 7,
   "metadata": {},
   "outputs": [
    {
     "name": "stdout",
     "output_type": "stream",
     "text": [
      "root\n",
      " |-- Loan_ID: string (nullable = true)\n",
      " |-- Gender: string (nullable = true)\n",
      " |-- Married: string (nullable = true)\n",
      " |-- Dependents: string (nullable = true)\n",
      " |-- Education: string (nullable = true)\n",
      " |-- Self_Employed: string (nullable = true)\n",
      " |-- ApplicantIncome: integer (nullable = true)\n",
      " |-- CoapplicantIncome: double (nullable = true)\n",
      " |-- LoanAmount: integer (nullable = true)\n",
      " |-- Loan_Amount_Term: integer (nullable = true)\n",
      " |-- Credit_History: integer (nullable = true)\n",
      " |-- Property_Area: string (nullable = true)\n",
      " |-- Loan_Status: string (nullable = true)\n",
      "\n"
     ]
    }
   ],
   "source": [
    "data.printSchema()"
   ]
  },
  {
   "cell_type": "code",
   "execution_count": 8,
   "metadata": {},
   "outputs": [
    {
     "name": "stdout",
     "output_type": "stream",
     "text": [
      "+--------+------+-------+----------+------------+-------------+---------------+-----------------+----------+----------------+--------------+-------------+-----------+\n",
      "| Loan_ID|Gender|Married|Dependents|   Education|Self_Employed|ApplicantIncome|CoapplicantIncome|LoanAmount|Loan_Amount_Term|Credit_History|Property_Area|Loan_Status|\n",
      "+--------+------+-------+----------+------------+-------------+---------------+-----------------+----------+----------------+--------------+-------------+-----------+\n",
      "|LP001002|  Male|     No|         0|    Graduate|           No|           5849|              0.0|      NULL|             360|             1|        Urban|          Y|\n",
      "|LP001003|  Male|    Yes|         1|    Graduate|           No|           4583|           1508.0|       128|             360|             1|        Rural|          N|\n",
      "|LP001005|  Male|    Yes|         0|    Graduate|          Yes|           3000|              0.0|        66|             360|             1|        Urban|          Y|\n",
      "|LP001006|  Male|    Yes|         0|Not Graduate|           No|           2583|           2358.0|       120|             360|             1|        Urban|          Y|\n",
      "|LP001008|  Male|     No|         0|    Graduate|           No|           6000|              0.0|       141|             360|             1|        Urban|          Y|\n",
      "+--------+------+-------+----------+------------+-------------+---------------+-----------------+----------+----------------+--------------+-------------+-----------+\n",
      "only showing top 5 rows\n",
      "\n"
     ]
    }
   ],
   "source": [
    "data.show(5)"
   ]
  },
  {
   "cell_type": "code",
   "execution_count": 9,
   "metadata": {},
   "outputs": [
    {
     "data": {
      "text/plain": [
       "Row(Loan_ID='LP001002', Gender='Male', Married='No', Dependents='0', Education='Graduate', Self_Employed='No', ApplicantIncome=5849, CoapplicantIncome=0.0, LoanAmount=None, Loan_Amount_Term=360, Credit_History=1, Property_Area='Urban', Loan_Status='Y')"
      ]
     },
     "execution_count": 9,
     "metadata": {},
     "output_type": "execute_result"
    }
   ],
   "source": [
    "data.head()"
   ]
  },
  {
   "cell_type": "code",
   "execution_count": 10,
   "metadata": {},
   "outputs": [
    {
     "name": "stdout",
     "output_type": "stream",
     "text": [
      "LP001002\n",
      "Male\n",
      "No\n",
      "0\n",
      "Graduate\n",
      "No\n",
      "5849\n",
      "0.0\n",
      "None\n",
      "360\n",
      "1\n",
      "Urban\n",
      "Y\n"
     ]
    }
   ],
   "source": [
    "for item in data.head():\n",
    "    print(item)"
   ]
  },
  {
   "cell_type": "code",
   "execution_count": 11,
   "metadata": {},
   "outputs": [],
   "source": [
    "selected_features = ['Gender', 'Married', 'Dependents', 'Education', 'Self_Employed', \n",
    "                     'ApplicantIncome', 'CoapplicantIncome', 'LoanAmount', \n",
    "                     'Loan_Amount_Term', 'Credit_History', 'Property_Area']\n",
    "\n",
    "df_train = data.select(selected_features + ['Loan_Status'])"
   ]
  },
  {
   "cell_type": "code",
   "execution_count": 12,
   "metadata": {},
   "outputs": [
    {
     "data": {
      "text/html": [
       "<div>\n",
       "<style scoped>\n",
       "    .dataframe tbody tr th:only-of-type {\n",
       "        vertical-align: middle;\n",
       "    }\n",
       "\n",
       "    .dataframe tbody tr th {\n",
       "        vertical-align: top;\n",
       "    }\n",
       "\n",
       "    .dataframe thead th {\n",
       "        text-align: right;\n",
       "    }\n",
       "</style>\n",
       "<table border=\"1\" class=\"dataframe\">\n",
       "  <thead>\n",
       "    <tr style=\"text-align: right;\">\n",
       "      <th></th>\n",
       "      <th>0</th>\n",
       "    </tr>\n",
       "  </thead>\n",
       "  <tbody>\n",
       "    <tr>\n",
       "      <th>Gender</th>\n",
       "      <td>0</td>\n",
       "    </tr>\n",
       "    <tr>\n",
       "      <th>Married</th>\n",
       "      <td>0</td>\n",
       "    </tr>\n",
       "    <tr>\n",
       "      <th>Dependents</th>\n",
       "      <td>0</td>\n",
       "    </tr>\n",
       "    <tr>\n",
       "      <th>Education</th>\n",
       "      <td>0</td>\n",
       "    </tr>\n",
       "    <tr>\n",
       "      <th>Self_Employed</th>\n",
       "      <td>0</td>\n",
       "    </tr>\n",
       "    <tr>\n",
       "      <th>ApplicantIncome</th>\n",
       "      <td>0</td>\n",
       "    </tr>\n",
       "    <tr>\n",
       "      <th>CoapplicantIncome</th>\n",
       "      <td>0</td>\n",
       "    </tr>\n",
       "    <tr>\n",
       "      <th>LoanAmount</th>\n",
       "      <td>0</td>\n",
       "    </tr>\n",
       "    <tr>\n",
       "      <th>Loan_Amount_Term</th>\n",
       "      <td>0</td>\n",
       "    </tr>\n",
       "    <tr>\n",
       "      <th>Credit_History</th>\n",
       "      <td>0</td>\n",
       "    </tr>\n",
       "    <tr>\n",
       "      <th>Property_Area</th>\n",
       "      <td>0</td>\n",
       "    </tr>\n",
       "    <tr>\n",
       "      <th>Loan_Status</th>\n",
       "      <td>0</td>\n",
       "    </tr>\n",
       "  </tbody>\n",
       "</table>\n",
       "</div>"
      ],
      "text/plain": [
       "                   0\n",
       "Gender             0\n",
       "Married            0\n",
       "Dependents         0\n",
       "Education          0\n",
       "Self_Employed      0\n",
       "ApplicantIncome    0\n",
       "CoapplicantIncome  0\n",
       "LoanAmount         0\n",
       "Loan_Amount_Term   0\n",
       "Credit_History     0\n",
       "Property_Area      0\n",
       "Loan_Status        0"
      ]
     },
     "execution_count": 12,
     "metadata": {},
     "output_type": "execute_result"
    }
   ],
   "source": [
    "#3. Kiểm tra dữ liệu NaN, null\n",
    "df_train.select([count(when(isnan(c), c)).alias(c) for c in df_train.columns]).toPandas().T"
   ]
  },
  {
   "cell_type": "code",
   "execution_count": 13,
   "metadata": {},
   "outputs": [
    {
     "data": {
      "text/html": [
       "<div>\n",
       "<style scoped>\n",
       "    .dataframe tbody tr th:only-of-type {\n",
       "        vertical-align: middle;\n",
       "    }\n",
       "\n",
       "    .dataframe tbody tr th {\n",
       "        vertical-align: top;\n",
       "    }\n",
       "\n",
       "    .dataframe thead th {\n",
       "        text-align: right;\n",
       "    }\n",
       "</style>\n",
       "<table border=\"1\" class=\"dataframe\">\n",
       "  <thead>\n",
       "    <tr style=\"text-align: right;\">\n",
       "      <th></th>\n",
       "      <th>0</th>\n",
       "    </tr>\n",
       "  </thead>\n",
       "  <tbody>\n",
       "    <tr>\n",
       "      <th>Gender</th>\n",
       "      <td>13</td>\n",
       "    </tr>\n",
       "    <tr>\n",
       "      <th>Married</th>\n",
       "      <td>3</td>\n",
       "    </tr>\n",
       "    <tr>\n",
       "      <th>Dependents</th>\n",
       "      <td>15</td>\n",
       "    </tr>\n",
       "    <tr>\n",
       "      <th>Education</th>\n",
       "      <td>0</td>\n",
       "    </tr>\n",
       "    <tr>\n",
       "      <th>Self_Employed</th>\n",
       "      <td>32</td>\n",
       "    </tr>\n",
       "    <tr>\n",
       "      <th>ApplicantIncome</th>\n",
       "      <td>0</td>\n",
       "    </tr>\n",
       "    <tr>\n",
       "      <th>CoapplicantIncome</th>\n",
       "      <td>0</td>\n",
       "    </tr>\n",
       "    <tr>\n",
       "      <th>LoanAmount</th>\n",
       "      <td>22</td>\n",
       "    </tr>\n",
       "    <tr>\n",
       "      <th>Loan_Amount_Term</th>\n",
       "      <td>14</td>\n",
       "    </tr>\n",
       "    <tr>\n",
       "      <th>Credit_History</th>\n",
       "      <td>50</td>\n",
       "    </tr>\n",
       "    <tr>\n",
       "      <th>Property_Area</th>\n",
       "      <td>0</td>\n",
       "    </tr>\n",
       "    <tr>\n",
       "      <th>Loan_Status</th>\n",
       "      <td>0</td>\n",
       "    </tr>\n",
       "  </tbody>\n",
       "</table>\n",
       "</div>"
      ],
      "text/plain": [
       "                    0\n",
       "Gender             13\n",
       "Married             3\n",
       "Dependents         15\n",
       "Education           0\n",
       "Self_Employed      32\n",
       "ApplicantIncome     0\n",
       "CoapplicantIncome   0\n",
       "LoanAmount         22\n",
       "Loan_Amount_Term   14\n",
       "Credit_History     50\n",
       "Property_Area       0\n",
       "Loan_Status         0"
      ]
     },
     "execution_count": 13,
     "metadata": {},
     "output_type": "execute_result"
    }
   ],
   "source": [
    "df_train.select([count(when(col(c).isNull(), c)).alias(c) for c in df_train.columns]).toPandas().T"
   ]
  },
  {
   "cell_type": "code",
   "execution_count": 14,
   "metadata": {},
   "outputs": [],
   "source": [
    "df_train = df_train.na.drop()"
   ]
  },
  {
   "cell_type": "code",
   "execution_count": 15,
   "metadata": {},
   "outputs": [
    {
     "data": {
      "text/html": [
       "<div>\n",
       "<style scoped>\n",
       "    .dataframe tbody tr th:only-of-type {\n",
       "        vertical-align: middle;\n",
       "    }\n",
       "\n",
       "    .dataframe tbody tr th {\n",
       "        vertical-align: top;\n",
       "    }\n",
       "\n",
       "    .dataframe thead th {\n",
       "        text-align: right;\n",
       "    }\n",
       "</style>\n",
       "<table border=\"1\" class=\"dataframe\">\n",
       "  <thead>\n",
       "    <tr style=\"text-align: right;\">\n",
       "      <th></th>\n",
       "      <th>0</th>\n",
       "    </tr>\n",
       "  </thead>\n",
       "  <tbody>\n",
       "    <tr>\n",
       "      <th>Gender</th>\n",
       "      <td>0</td>\n",
       "    </tr>\n",
       "    <tr>\n",
       "      <th>Married</th>\n",
       "      <td>0</td>\n",
       "    </tr>\n",
       "    <tr>\n",
       "      <th>Dependents</th>\n",
       "      <td>0</td>\n",
       "    </tr>\n",
       "    <tr>\n",
       "      <th>Education</th>\n",
       "      <td>0</td>\n",
       "    </tr>\n",
       "    <tr>\n",
       "      <th>Self_Employed</th>\n",
       "      <td>0</td>\n",
       "    </tr>\n",
       "    <tr>\n",
       "      <th>ApplicantIncome</th>\n",
       "      <td>0</td>\n",
       "    </tr>\n",
       "    <tr>\n",
       "      <th>CoapplicantIncome</th>\n",
       "      <td>0</td>\n",
       "    </tr>\n",
       "    <tr>\n",
       "      <th>LoanAmount</th>\n",
       "      <td>0</td>\n",
       "    </tr>\n",
       "    <tr>\n",
       "      <th>Loan_Amount_Term</th>\n",
       "      <td>0</td>\n",
       "    </tr>\n",
       "    <tr>\n",
       "      <th>Credit_History</th>\n",
       "      <td>0</td>\n",
       "    </tr>\n",
       "    <tr>\n",
       "      <th>Property_Area</th>\n",
       "      <td>0</td>\n",
       "    </tr>\n",
       "    <tr>\n",
       "      <th>Loan_Status</th>\n",
       "      <td>0</td>\n",
       "    </tr>\n",
       "  </tbody>\n",
       "</table>\n",
       "</div>"
      ],
      "text/plain": [
       "                   0\n",
       "Gender             0\n",
       "Married            0\n",
       "Dependents         0\n",
       "Education          0\n",
       "Self_Employed      0\n",
       "ApplicantIncome    0\n",
       "CoapplicantIncome  0\n",
       "LoanAmount         0\n",
       "Loan_Amount_Term   0\n",
       "Credit_History     0\n",
       "Property_Area      0\n",
       "Loan_Status        0"
      ]
     },
     "execution_count": 15,
     "metadata": {},
     "output_type": "execute_result"
    }
   ],
   "source": [
    "df_train.select([count(when(col(c).isNull(), c)).alias(c) for c in df_train.columns]).toPandas().T"
   ]
  },
  {
   "cell_type": "code",
   "execution_count": 16,
   "metadata": {},
   "outputs": [],
   "source": [
    "# StringIndexer for categorical variables\n",
    "indexers = [StringIndexer(inputCol=column, outputCol=column+\"_index\").fit(df_train) \n",
    "            for column in ['Gender', 'Married', 'Education', 'Self_Employed', 'Property_Area', 'Loan_Status']]\n",
    "\n",
    "pipeline = Pipeline(stages=indexers)\n",
    "df_train = pipeline.fit(df_train).transform(df_train)"
   ]
  },
  {
   "cell_type": "code",
   "execution_count": 17,
   "metadata": {},
   "outputs": [],
   "source": [
    "# OneHotEncoder for categorical variables\n",
    "encoder = OneHotEncoder(inputCols=['Gender_index', 'Married_index', 'Education_index', \n",
    "                                   'Self_Employed_index', 'Property_Area_index'], \n",
    "                        outputCols=['Gender_encoded', 'Married_encoded', 'Education_encoded', \n",
    "                                    'Self_Employed_encoded', 'Property_Area_encoded'])\n",
    "\n",
    "df_train = encoder.fit(df_train).transform(df_train)"
   ]
  },
  {
   "cell_type": "code",
   "execution_count": 18,
   "metadata": {},
   "outputs": [],
   "source": [
    "# Create a vector of features\n",
    "assembler = VectorAssembler(inputCols=['Gender_encoded', 'Married_encoded', 'Education_encoded', \n",
    "                                       'Self_Employed_encoded', 'Property_Area_encoded', \n",
    "                                       'ApplicantIncome', 'CoapplicantIncome', 'LoanAmount', \n",
    "                                       'Loan_Amount_Term', 'Credit_History'], \n",
    "                            outputCol=\"features_unscaled\")"
   ]
  },
  {
   "cell_type": "code",
   "execution_count": 19,
   "metadata": {},
   "outputs": [],
   "source": [
    "df_train = assembler.transform(df_train)"
   ]
  },
  {
   "cell_type": "code",
   "execution_count": 20,
   "metadata": {},
   "outputs": [],
   "source": [
    "# StandardScaler for numerical features\n",
    "scaler = StandardScaler(inputCol=\"features_unscaled\", outputCol=\"features\", withStd=True, withMean=True)\n",
    "scalerModel = scaler.fit(df_train)\n",
    "df_train = scalerModel.transform(df_train)"
   ]
  },
  {
   "cell_type": "code",
   "execution_count": 21,
   "metadata": {},
   "outputs": [],
   "source": [
    "# Select the features and the label\n",
    "df_train = df_train.select(\"features\", \"Loan_Status_index\")"
   ]
  },
  {
   "cell_type": "code",
   "execution_count": 22,
   "metadata": {},
   "outputs": [
    {
     "name": "stdout",
     "output_type": "stream",
     "text": [
      "+------------------------------------------------------------------------------------------------------------------------------------------------------------------------------------------------------------------------+-----------------+\n",
      "|features                                                                                                                                                                                                                |Loan_Status_index|\n",
      "+------------------------------------------------------------------------------------------------------------------------------------------------------------------------------------------------------------------------+-----------------+\n",
      "|[0.4667112318580628,0.7363940924385185,0.502728629429132,0.3988585767552299,-0.8121100785608534,-0.6734972047814934,-0.13782579766678635,-0.02792290913385349,-0.2078722925821958,0.2752543965980117,0.4127662973889253]|1.0              |\n",
      "|[0.4667112318580628,0.7363940924385185,0.502728629429132,-2.501931072373716,-0.8121100785608534,1.4816938505192856,-0.4171006445274612,-0.6040028475801245,-0.9779805245311807,0.2752543965980117,0.4127662973889253]   |0.0              |\n",
      "|[0.4667112318580628,0.7363940924385185,-1.9850006708387384,0.3988585767552299,-0.8121100785608534,1.4816938505192856,-0.4906683079140067,0.2967905840222011,-0.30724109670464544,0.2752543965980117,0.4127662973889253] |0.0              |\n",
      "|[0.4667112318580628,-1.355139424546623,0.502728629429132,0.3988585767552299,-0.8121100785608534,1.4816938505192856,0.11216312084336924,-0.6040028475801245,-0.04639798588321513,0.2752543965980117,0.4127662973889253]  |0.0              |\n",
      "|[0.4667112318580628,0.7363940924385185,0.502728629429132,-2.501931072373716,-0.8121100785608534,1.4816938505192856,0.009309529106304518,0.9989357609878815,1.518660679045367,0.2752543965980117,0.4127662973889253]     |0.0              |\n",
      "+------------------------------------------------------------------------------------------------------------------------------------------------------------------------------------------------------------------------+-----------------+\n",
      "only showing top 5 rows\n",
      "\n"
     ]
    }
   ],
   "source": [
    "df_train.show(5, truncate=False)"
   ]
  },
  {
   "cell_type": "code",
   "execution_count": 23,
   "metadata": {},
   "outputs": [],
   "source": [
    "train_data, test_data = df_train.randomSplit([0.8, 0.2], seed=42)"
   ]
  },
  {
   "cell_type": "markdown",
   "metadata": {},
   "source": [
    "## Spark Formatting of Data"
   ]
  },
  {
   "cell_type": "code",
   "execution_count": 24,
   "metadata": {},
   "outputs": [
    {
     "name": "stdout",
     "output_type": "stream",
     "text": [
      "+-------+-------------------+\n",
      "|summary|  Loan_Status_index|\n",
      "+-------+-------------------+\n",
      "|  count|                409|\n",
      "|   mean|0.31295843520782396|\n",
      "| stddev| 0.4642654969944527|\n",
      "|    min|                0.0|\n",
      "|    max|                1.0|\n",
      "+-------+-------------------+\n",
      "\n"
     ]
    }
   ],
   "source": [
    "train_data.describe().show()"
   ]
  },
  {
   "cell_type": "code",
   "execution_count": 25,
   "metadata": {},
   "outputs": [
    {
     "name": "stdout",
     "output_type": "stream",
     "text": [
      "+-------+-------------------+\n",
      "|summary|  Loan_Status_index|\n",
      "+-------+-------------------+\n",
      "|  count|                 71|\n",
      "|   mean|0.28169014084507044|\n",
      "| stddev|0.45302471050703175|\n",
      "|    min|                0.0|\n",
      "|    max|                1.0|\n",
      "+-------+-------------------+\n",
      "\n"
     ]
    }
   ],
   "source": [
    "test_data.describe().show()"
   ]
  },
  {
   "cell_type": "markdown",
   "metadata": {},
   "source": [
    "## The Classifiers"
   ]
  },
  {
   "cell_type": "code",
   "execution_count": 26,
   "metadata": {},
   "outputs": [],
   "source": [
    "from pyspark.ml.classification import DecisionTreeClassifier\n",
    "from pyspark.ml.classification import RandomForestClassifier\n",
    "from pyspark.ml import Pipeline"
   ]
  },
  {
   "cell_type": "markdown",
   "metadata": {},
   "source": [
    "Create all three models:"
   ]
  },
  {
   "cell_type": "code",
   "execution_count": 27,
   "metadata": {},
   "outputs": [],
   "source": [
    "# Use mostly defaults to make this comparison \"fair\"\n",
    "dtc = DecisionTreeClassifier(labelCol='Loan_Status_index',featuresCol='features')\n",
    "rfc = RandomForestClassifier(labelCol='Loan_Status_index',featuresCol='features')"
   ]
  },
  {
   "cell_type": "markdown",
   "metadata": {},
   "source": [
    "Train all three models:"
   ]
  },
  {
   "cell_type": "code",
   "execution_count": 28,
   "metadata": {},
   "outputs": [],
   "source": [
    "# Train the models (its three models, so it might take some time)\n",
    "dtc_model = dtc.fit(train_data)\n",
    "rfc_model = rfc.fit(train_data)"
   ]
  },
  {
   "cell_type": "markdown",
   "metadata": {},
   "source": [
    "## Model Comparison\n",
    "\n",
    "Let's compare each of these models!"
   ]
  },
  {
   "cell_type": "code",
   "execution_count": 29,
   "metadata": {},
   "outputs": [],
   "source": [
    "dtc_predictions = dtc_model.transform(test_data)\n",
    "rfc_predictions = rfc_model.transform(test_data)"
   ]
  },
  {
   "cell_type": "markdown",
   "metadata": {},
   "source": [
    "### Evaluation Metrics:"
   ]
  },
  {
   "cell_type": "code",
   "execution_count": 30,
   "metadata": {},
   "outputs": [],
   "source": [
    "from pyspark.ml.evaluation import MulticlassClassificationEvaluator"
   ]
  },
  {
   "cell_type": "code",
   "execution_count": 31,
   "metadata": {},
   "outputs": [],
   "source": [
    "# Select (prediction, true label) and compute test error\n",
    "acc_evaluator = MulticlassClassificationEvaluator(labelCol=\"Loan_Status_index\", \n",
    "                                                  predictionCol=\"prediction\", \n",
    "                                                  metricName=\"accuracy\")"
   ]
  },
  {
   "cell_type": "code",
   "execution_count": 32,
   "metadata": {},
   "outputs": [],
   "source": [
    "dtc_acc = acc_evaluator.evaluate(dtc_predictions)\n",
    "rfc_acc = acc_evaluator.evaluate(rfc_predictions)"
   ]
  },
  {
   "cell_type": "code",
   "execution_count": 33,
   "metadata": {},
   "outputs": [
    {
     "name": "stdout",
     "output_type": "stream",
     "text": [
      "Results:\n",
      "--------------------------------------------------------------------------------\n",
      "A single decision tree - accuracy: 74.65%\n",
      "--------------------------------------------------------------------------------\n",
      "A random forest ensemble - accuracy: 81.69%\n"
     ]
    }
   ],
   "source": [
    "print(\"Results:\")\n",
    "print('-'*80)\n",
    "print('A single decision tree - accuracy: {0:2.2f}%'.format(dtc_acc*100))\n",
    "print('-'*80)\n",
    "print('A random forest ensemble - accuracy: {0:2.2f}%'.format(rfc_acc*100))"
   ]
  },
  {
   "cell_type": "code",
   "execution_count": 34,
   "metadata": {},
   "outputs": [],
   "source": [
    "from pyspark.ml.evaluation import BinaryClassificationEvaluator\n",
    "# Compare AUC on testing data\n",
    "evaluator = BinaryClassificationEvaluator(labelCol=\"Loan_Status_index\")\n"
   ]
  },
  {
   "cell_type": "code",
   "execution_count": 35,
   "metadata": {},
   "outputs": [],
   "source": [
    "dtc_acc_2 = evaluator.evaluate(dtc_predictions)\n",
    "rfc_acc_2 = evaluator.evaluate(rfc_predictions)"
   ]
  },
  {
   "cell_type": "code",
   "execution_count": 36,
   "metadata": {},
   "outputs": [
    {
     "name": "stdout",
     "output_type": "stream",
     "text": [
      "Results\n",
      "------------------------------------------------------------\n",
      "A single decision tree has an AUC of: 34.36%\n",
      "------------------------------------------------------------\n",
      "A random forest ensemble has an AUC of: 79.22%\n"
     ]
    }
   ],
   "source": [
    "print(\"Results\")\n",
    "print('-'*60)\n",
    "print('A single decision tree has an AUC of: {0:2.2f}%'.format(dtc_acc_2*100))\n",
    "print('-'*60)\n",
    "print('A random forest ensemble has an AUC of: {0:2.2f}%'.format(rfc_acc_2*100))"
   ]
  },
  {
   "cell_type": "markdown",
   "metadata": {},
   "source": [
    "| **Mô hình**                | **Độ chính xác (%)** | **AUC (%)** | **Ưu điểm**                                                                                      | **Nhược điểm**                                               |\n",
    "|---------------------------|-----------------------|--------------|--------------------------------------------------------------------------------------------------|--------------------------------------------------------------|\n",
    "| Decision Tree Classifier  | 74.65                 | 34.36        | - Dễ hiểu, dễ giải thích<br>- Tính ổn định                                                        | - Dễ bị overfitting<br>- Độ chính xác thấp                   |\n",
    "| Random Forest Classifier  | 81.69%                 | 82.25        | - Độ chính xác cao<br>- AUC cao<br>- Giảm overfitting<br>- Tính ổn định<br>- Dễ tinh chỉnh      | - Tốn nhiều thời gian huấn luyện hơn so với Decision Tree   |\n",
    "\n"
   ]
  },
  {
   "cell_type": "markdown",
   "metadata": {},
   "source": [
    "- Random Forest Classifier có độ chính xác và AUC cao hơn so với Decision Tree.\n",
    "- Random Forest có khả năng giảm overfitting và tính ổn định cao, đồng thời dễ dàng để tinh chỉnh.\n",
    "\n",
    "=> Do đó, chọn Random Forest Classifier làm mô hình cuối cùng để dự đoán liệu một khách hàng có được duyệt cho vay hay không."
   ]
  },
  {
   "cell_type": "code",
   "execution_count": 37,
   "metadata": {},
   "outputs": [],
   "source": [
    "test = spark.read.csv(\"HomeLoan/loan_sanction_test.csv\", header=True, inferSchema=True)"
   ]
  },
  {
   "cell_type": "code",
   "execution_count": 38,
   "metadata": {},
   "outputs": [],
   "source": [
    "df_test = spark.read.csv(\"HomeLoan/loan_sanction_test.csv\", header=True, inferSchema=True)"
   ]
  },
  {
   "cell_type": "code",
   "execution_count": 39,
   "metadata": {},
   "outputs": [
    {
     "name": "stdout",
     "output_type": "stream",
     "text": [
      "+--------+------+-------+----------+------------+-------------+---------------+-----------------+----------+----------------+--------------+-------------+\n",
      "| Loan_ID|Gender|Married|Dependents|   Education|Self_Employed|ApplicantIncome|CoapplicantIncome|LoanAmount|Loan_Amount_Term|Credit_History|Property_Area|\n",
      "+--------+------+-------+----------+------------+-------------+---------------+-----------------+----------+----------------+--------------+-------------+\n",
      "|LP001015|  Male|    Yes|         0|    Graduate|           No|           5720|                0|       110|             360|             1|        Urban|\n",
      "|LP001022|  Male|    Yes|         1|    Graduate|           No|           3076|             1500|       126|             360|             1|        Urban|\n",
      "|LP001031|  Male|    Yes|         2|    Graduate|           No|           5000|             1800|       208|             360|             1|        Urban|\n",
      "|LP001035|  Male|    Yes|         2|    Graduate|           No|           2340|             2546|       100|             360|          NULL|        Urban|\n",
      "|LP001051|  Male|     No|         0|Not Graduate|           No|           3276|                0|        78|             360|             1|        Urban|\n",
      "+--------+------+-------+----------+------------+-------------+---------------+-----------------+----------+----------------+--------------+-------------+\n",
      "only showing top 5 rows\n",
      "\n"
     ]
    }
   ],
   "source": [
    "df_test.show(5)"
   ]
  },
  {
   "cell_type": "code",
   "execution_count": 40,
   "metadata": {},
   "outputs": [],
   "source": [
    "df_test = df_test.na.drop()"
   ]
  },
  {
   "cell_type": "code",
   "execution_count": 41,
   "metadata": {},
   "outputs": [],
   "source": [
    "df_test = df_test.select(selected_features)"
   ]
  },
  {
   "cell_type": "code",
   "execution_count": 42,
   "metadata": {},
   "outputs": [],
   "source": [
    "df_test = pipeline.fit(df_test).transform(df_test)"
   ]
  },
  {
   "cell_type": "code",
   "execution_count": 43,
   "metadata": {},
   "outputs": [],
   "source": [
    "df_test = encoder.fit(df_test).transform(df_test)"
   ]
  },
  {
   "cell_type": "code",
   "execution_count": 44,
   "metadata": {},
   "outputs": [],
   "source": [
    "df_test = assembler.transform(df_test)"
   ]
  },
  {
   "cell_type": "code",
   "execution_count": 45,
   "metadata": {},
   "outputs": [],
   "source": [
    "df_test = scalerModel.transform(df_test)"
   ]
  },
  {
   "cell_type": "code",
   "execution_count": 46,
   "metadata": {},
   "outputs": [
    {
     "name": "stdout",
     "output_type": "stream",
     "text": [
      "+------+-------+----------+------------+-------------+---------------+-----------------+----------+----------------+--------------+-------------+------------+-------------+---------------+-------------------+-------------------+--------------+---------------+-----------------+---------------------+---------------------+--------------------+--------------------+\n",
      "|Gender|Married|Dependents|   Education|Self_Employed|ApplicantIncome|CoapplicantIncome|LoanAmount|Loan_Amount_Term|Credit_History|Property_Area|Gender_index|Married_index|Education_index|Self_Employed_index|Property_Area_index|Gender_encoded|Married_encoded|Education_encoded|Self_Employed_encoded|Property_Area_encoded|   features_unscaled|            features|\n",
      "+------+-------+----------+------------+-------------+---------------+-----------------+----------+----------------+--------------+-------------+------------+-------------+---------------+-------------------+-------------------+--------------+---------------+-----------------+---------------------+---------------------+--------------------+--------------------+\n",
      "|  Male|    Yes|         0|    Graduate|           No|           5720|                0|       110|             360|             1|        Urban|         0.0|          0.0|            0.0|                0.0|                1.0| (1,[0],[1.0])|  (1,[0],[1.0])|    (1,[0],[1.0])|        (1,[0],[1.0])|        (2,[1],[1.0])|[1.0,1.0,1.0,1.0,...|[0.46671123185806...|\n",
      "|  Male|    Yes|         1|    Graduate|           No|           3076|             1500|       126|             360|             1|        Urban|         0.0|          0.0|            0.0|                0.0|                1.0| (1,[0],[1.0])|  (1,[0],[1.0])|    (1,[0],[1.0])|        (1,[0],[1.0])|        (2,[1],[1.0])|[1.0,1.0,1.0,1.0,...|[0.46671123185806...|\n",
      "|  Male|    Yes|         2|    Graduate|           No|           5000|             1800|       208|             360|             1|        Urban|         0.0|          0.0|            0.0|                0.0|                1.0| (1,[0],[1.0])|  (1,[0],[1.0])|    (1,[0],[1.0])|        (1,[0],[1.0])|        (2,[1],[1.0])|[1.0,1.0,1.0,1.0,...|[0.46671123185806...|\n",
      "|  Male|     No|         0|Not Graduate|           No|           3276|                0|        78|             360|             1|        Urban|         0.0|          1.0|            1.0|                0.0|                1.0| (1,[0],[1.0])|      (1,[],[])|        (1,[],[])|        (1,[0],[1.0])|        (2,[1],[1.0])|[1.0,0.0,0.0,1.0,...|[0.46671123185806...|\n",
      "|  Male|    Yes|         0|Not Graduate|          Yes|           2165|             3422|       152|             360|             1|        Urban|         0.0|          0.0|            1.0|                1.0|                1.0| (1,[0],[1.0])|  (1,[0],[1.0])|        (1,[],[])|            (1,[],[])|        (2,[1],[1.0])|[1.0,1.0,0.0,0.0,...|[0.46671123185806...|\n",
      "+------+-------+----------+------------+-------------+---------------+-----------------+----------+----------------+--------------+-------------+------------+-------------+---------------+-------------------+-------------------+--------------+---------------+-----------------+---------------------+---------------------+--------------------+--------------------+\n",
      "only showing top 5 rows\n",
      "\n"
     ]
    }
   ],
   "source": [
    "df_test.show(5)"
   ]
  },
  {
   "cell_type": "code",
   "execution_count": 47,
   "metadata": {},
   "outputs": [],
   "source": [
    "# Make predictions\n",
    "rfc_predictions_new_customers = rfc_model.transform(df_test)"
   ]
  },
  {
   "cell_type": "code",
   "execution_count": 48,
   "metadata": {},
   "outputs": [
    {
     "name": "stdout",
     "output_type": "stream",
     "text": [
      "Random Forest Classifier Predictions:\n",
      "+--------------------+----------+\n",
      "|            features|prediction|\n",
      "+--------------------+----------+\n",
      "|[0.46671123185806...|       0.0|\n",
      "|[0.46671123185806...|       0.0|\n",
      "|[0.46671123185806...|       0.0|\n",
      "|[0.46671123185806...|       0.0|\n",
      "|[0.46671123185806...|       0.0|\n",
      "|[-2.1381886668846...|       0.0|\n",
      "|[0.46671123185806...|       1.0|\n",
      "|[0.46671123185806...|       0.0|\n",
      "|[0.46671123185806...|       0.0|\n",
      "|[-2.1381886668846...|       0.0|\n",
      "|[0.46671123185806...|       0.0|\n",
      "|[0.46671123185806...|       0.0|\n",
      "|[0.46671123185806...|       0.0|\n",
      "|[0.46671123185806...|       0.0|\n",
      "|[0.46671123185806...|       0.0|\n",
      "|[0.46671123185806...|       0.0|\n",
      "|[-2.1381886668846...|       0.0|\n",
      "|[-2.1381886668846...|       0.0|\n",
      "|[0.46671123185806...|       0.0|\n",
      "|[0.46671123185806...|       1.0|\n",
      "+--------------------+----------+\n",
      "only showing top 20 rows\n",
      "\n"
     ]
    }
   ],
   "source": [
    "print(\"Random Forest Classifier Predictions:\")\n",
    "rfc_predictions_new_customers.select(\"features\", \"prediction\").show()"
   ]
  },
  {
   "cell_type": "code",
   "execution_count": 49,
   "metadata": {},
   "outputs": [
    {
     "name": "stdout",
     "output_type": "stream",
     "text": [
      "+--------+------+-------+----------+---------+-------------+---------------+-----------------+----------+----------------+--------------+-------------+----------+\n",
      "| Loan_ID|Gender|Married|Dependents|Education|Self_Employed|ApplicantIncome|CoapplicantIncome|LoanAmount|Loan_Amount_Term|Credit_History|Property_Area|prediction|\n",
      "+--------+------+-------+----------+---------+-------------+---------------+-----------------+----------+----------------+--------------+-------------+----------+\n",
      "|LP001015|  Male|    Yes|         0| Graduate|           No|           5720|                0|       110|             360|             1|        Urban|       0.0|\n",
      "|LP001015|  Male|    Yes|         0| Graduate|           No|           5720|                0|       110|             360|             1|        Urban|       0.0|\n",
      "|LP001015|  Male|    Yes|         0| Graduate|           No|           5720|                0|       110|             360|             1|        Urban|       0.0|\n",
      "|LP001015|  Male|    Yes|         0| Graduate|           No|           5720|                0|       110|             360|             1|        Urban|       0.0|\n",
      "|LP001015|  Male|    Yes|         0| Graduate|           No|           5720|                0|       110|             360|             1|        Urban|       0.0|\n",
      "|LP001015|  Male|    Yes|         0| Graduate|           No|           5720|                0|       110|             360|             1|        Urban|       0.0|\n",
      "|LP001015|  Male|    Yes|         0| Graduate|           No|           5720|                0|       110|             360|             1|        Urban|       1.0|\n",
      "|LP001015|  Male|    Yes|         0| Graduate|           No|           5720|                0|       110|             360|             1|        Urban|       0.0|\n",
      "|LP001015|  Male|    Yes|         0| Graduate|           No|           5720|                0|       110|             360|             1|        Urban|       0.0|\n",
      "|LP001015|  Male|    Yes|         0| Graduate|           No|           5720|                0|       110|             360|             1|        Urban|       0.0|\n",
      "|LP001015|  Male|    Yes|         0| Graduate|           No|           5720|                0|       110|             360|             1|        Urban|       0.0|\n",
      "|LP001015|  Male|    Yes|         0| Graduate|           No|           5720|                0|       110|             360|             1|        Urban|       0.0|\n",
      "|LP001015|  Male|    Yes|         0| Graduate|           No|           5720|                0|       110|             360|             1|        Urban|       0.0|\n",
      "|LP001015|  Male|    Yes|         0| Graduate|           No|           5720|                0|       110|             360|             1|        Urban|       0.0|\n",
      "|LP001015|  Male|    Yes|         0| Graduate|           No|           5720|                0|       110|             360|             1|        Urban|       0.0|\n",
      "|LP001015|  Male|    Yes|         0| Graduate|           No|           5720|                0|       110|             360|             1|        Urban|       0.0|\n",
      "|LP001015|  Male|    Yes|         0| Graduate|           No|           5720|                0|       110|             360|             1|        Urban|       0.0|\n",
      "|LP001015|  Male|    Yes|         0| Graduate|           No|           5720|                0|       110|             360|             1|        Urban|       0.0|\n",
      "|LP001015|  Male|    Yes|         0| Graduate|           No|           5720|                0|       110|             360|             1|        Urban|       0.0|\n",
      "|LP001015|  Male|    Yes|         0| Graduate|           No|           5720|                0|       110|             360|             1|        Urban|       1.0|\n",
      "+--------+------+-------+----------+---------+-------------+---------------+-----------------+----------+----------------+--------------+-------------+----------+\n",
      "only showing top 20 rows\n",
      "\n"
     ]
    }
   ],
   "source": [
    "df_test_with_predictions = test.join(rfc_predictions_new_customers.select(\"prediction\"), how='inner')\n",
    "\n",
    "# Show predictions\n",
    "df_test_with_predictions.show()"
   ]
  },
  {
   "cell_type": "code",
   "execution_count": 50,
   "metadata": {},
   "outputs": [],
   "source": [
    "df_test_with_predictions.toPandas().to_csv('test_predictions.csv', header=True, index=False)"
   ]
  }
 ],
 "metadata": {
  "kernelspec": {
   "display_name": "Python 3 (ipykernel)",
   "language": "python",
   "name": "python3"
  },
  "language_info": {
   "codemirror_mode": {
    "name": "ipython",
    "version": 3
   },
   "file_extension": ".py",
   "mimetype": "text/x-python",
   "name": "python",
   "nbconvert_exporter": "python",
   "pygments_lexer": "ipython3",
   "version": "3.10.9"
  }
 },
 "nbformat": 4,
 "nbformat_minor": 2
}
