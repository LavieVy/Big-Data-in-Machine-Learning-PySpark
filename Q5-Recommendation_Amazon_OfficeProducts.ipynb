{
 "cells": [
  {
   "cell_type": "markdown",
   "metadata": {},
   "source": [
    "# Câu 5: Recommendation - Amazon - Office Products (1.0 điểm)"
   ]
  },
  {
   "cell_type": "markdown",
   "metadata": {},
   "source": [
    "## only have one laptop/computer:\n",
    "- Use the information \"reviewerID\", \"asin\" (ProductID), and “overall” (users’ ratings for each product) in dataset reviews_Office_Products_5.json.gz to build a model to predict overalls for products that have not been selected \n",
    "by users. \n",
    "- Then make recommendations to some users: A3CJ7MHAS9IMAM, A3LGT6UZL99IW1, A21KNRUAA5RK5E\n",
    "\n",
    "Read more information here: \n",
    "https://cseweb.ucsd.edu/~jmcauley/datasets/amazon/links.html"
   ]
  },
  {
   "cell_type": "code",
   "execution_count": 1,
   "metadata": {},
   "outputs": [],
   "source": [
    "import findspark\n",
    "findspark.init()"
   ]
  },
  {
   "cell_type": "code",
   "execution_count": 2,
   "metadata": {},
   "outputs": [],
   "source": [
    "from pyspark.sql import SparkSession"
   ]
  },
  {
   "cell_type": "code",
   "execution_count": 3,
   "metadata": {},
   "outputs": [
    {
     "data": {
      "text/html": [
       "\n",
       "            <div>\n",
       "                <p><b>SparkSession - in-memory</b></p>\n",
       "                \n",
       "        <div>\n",
       "            <p><b>SparkContext</b></p>\n",
       "\n",
       "            <p><a href=\"http://DESKTOP-U0BRSSO:4042\">Spark UI</a></p>\n",
       "\n",
       "            <dl>\n",
       "              <dt>Version</dt>\n",
       "                <dd><code>v3.5.1</code></dd>\n",
       "              <dt>Master</dt>\n",
       "                <dd><code>local[*]</code></dd>\n",
       "              <dt>AppName</dt>\n",
       "                <dd><code>Recommendation_system</code></dd>\n",
       "            </dl>\n",
       "        </div>\n",
       "        \n",
       "            </div>\n",
       "        "
      ],
      "text/plain": [
       "<pyspark.sql.session.SparkSession at 0x1d1db534460>"
      ]
     },
     "execution_count": 3,
     "metadata": {},
     "output_type": "execute_result"
    }
   ],
   "source": [
    "spark = SparkSession.builder.appName('Recommendation_system').getOrCreate()\n",
    "spark"
   ]
  },
  {
   "cell_type": "code",
   "execution_count": 4,
   "metadata": {},
   "outputs": [],
   "source": [
    "data = spark.read.json(\"reviews_Office_Products_5.json.gz\")"
   ]
  },
  {
   "cell_type": "code",
   "execution_count": 5,
   "metadata": {
    "colab": {
     "base_uri": "https://localhost:8080/"
    },
    "executionInfo": {
     "elapsed": 7,
     "status": "ok",
     "timestamp": 1622449415505,
     "user": {
      "displayName": "Phuong Khuat Thuy",
      "photoUrl": "https://lh3.googleusercontent.com/a-/AOh14GgRoKUbK0wCx-zob_FuGThytT8MKkXvtSaX5ZDCXA=s64",
      "userId": "16807426118474640783"
     },
     "user_tz": -420
    },
    "id": "_w46ci6qLvQw",
    "outputId": "6f16bdb5-5937-4323-e6f2-a7167137be5a"
   },
   "outputs": [
    {
     "name": "stdout",
     "output_type": "stream",
     "text": [
      "+----------+-------+-------+--------------------+-----------+--------------+-------------------+--------------------+--------------+\n",
      "|      asin|helpful|overall|          reviewText| reviewTime|    reviewerID|       reviewerName|             summary|unixReviewTime|\n",
      "+----------+-------+-------+--------------------+-----------+--------------+-------------------+--------------------+--------------+\n",
      "|B00000JBLH| [3, 4]|    5.0|I bought my first...| 09 3, 2004|A32T2H8150OJLU|                ARH|A solid performer...|    1094169600|\n",
      "|B00000JBLH| [7, 9]|    5.0|WHY THIS BELATED ...|12 15, 2007|A3MAFS04ZABRGO|   Let it Be \"Alan\"|Price of GOLD is ...|    1197676800|\n",
      "|B00000JBLH| [3, 3]|    2.0|I have an HP 48GX...| 01 1, 2011|A1F1A0QQP2XVH5|             Mark B|Good functionalit...|    1293840000|\n",
      "|B00000JBLH| [7, 8]|    5.0|I've started doin...|04 19, 2006| A49R5DBXXQDE5|       R. D Johnson|One of the last o...|    1145404800|\n",
      "|B00000JBLH| [0, 0]|    5.0|For simple calcul...| 08 4, 2013|A2XRMQA6PJ5ZJ8|Roger J. Buffington|      Still the best|    1375574400|\n",
      "+----------+-------+-------+--------------------+-----------+--------------+-------------------+--------------------+--------------+\n",
      "only showing top 5 rows\n",
      "\n"
     ]
    }
   ],
   "source": [
    "data.show(5,truncate=True)"
   ]
  },
  {
   "cell_type": "code",
   "execution_count": 6,
   "metadata": {
    "id": "_dphqo3RLvQx"
   },
   "outputs": [],
   "source": [
    "data_sub = data.select(['asin', 'overall', 'reviewerID'])"
   ]
  },
  {
   "cell_type": "code",
   "execution_count": 7,
   "metadata": {
    "colab": {
     "base_uri": "https://localhost:8080/"
    },
    "executionInfo": {
     "elapsed": 26363,
     "status": "ok",
     "timestamp": 1622449441864,
     "user": {
      "displayName": "Phuong Khuat Thuy",
      "photoUrl": "https://lh3.googleusercontent.com/a-/AOh14GgRoKUbK0wCx-zob_FuGThytT8MKkXvtSaX5ZDCXA=s64",
      "userId": "16807426118474640783"
     },
     "user_tz": -420
    },
    "id": "luIqOoCnLvQx",
    "outputId": "b9ce5c92-b65e-43d3-a620-35fe712dc120"
   },
   "outputs": [
    {
     "data": {
      "text/plain": [
       "53258"
      ]
     },
     "execution_count": 7,
     "metadata": {},
     "output_type": "execute_result"
    }
   ],
   "source": [
    "data_sub.count()"
   ]
  },
  {
   "cell_type": "code",
   "execution_count": 8,
   "metadata": {
    "colab": {
     "base_uri": "https://localhost:8080/"
    },
    "executionInfo": {
     "elapsed": 17,
     "status": "ok",
     "timestamp": 1622449441865,
     "user": {
      "displayName": "Phuong Khuat Thuy",
      "photoUrl": "https://lh3.googleusercontent.com/a-/AOh14GgRoKUbK0wCx-zob_FuGThytT8MKkXvtSaX5ZDCXA=s64",
      "userId": "16807426118474640783"
     },
     "user_tz": -420
    },
    "id": "OzWgSvmOWatd",
    "outputId": "85a65579-92ff-44ad-c3d5-ec450105c2a3"
   },
   "outputs": [
    {
     "name": "stdout",
     "output_type": "stream",
     "text": [
      "+----------+-------+--------------+\n",
      "|      asin|overall|    reviewerID|\n",
      "+----------+-------+--------------+\n",
      "|B00000JBLH|    5.0|A32T2H8150OJLU|\n",
      "|B00000JBLH|    5.0|A3MAFS04ZABRGO|\n",
      "|B00000JBLH|    2.0|A1F1A0QQP2XVH5|\n",
      "|B00000JBLH|    5.0| A49R5DBXXQDE5|\n",
      "|B00000JBLH|    5.0|A2XRMQA6PJ5ZJ8|\n",
      "+----------+-------+--------------+\n",
      "only showing top 5 rows\n",
      "\n"
     ]
    }
   ],
   "source": [
    "data_sub.show(5, truncate=True)"
   ]
  },
  {
   "cell_type": "code",
   "execution_count": 9,
   "metadata": {
    "id": "fU16GJDsLvQx"
   },
   "outputs": [],
   "source": [
    "from pyspark.sql.types import DoubleType\n",
    "from pyspark.sql.functions import isnan, when, count, col, udf"
   ]
  },
  {
   "cell_type": "code",
   "execution_count": 10,
   "metadata": {
    "colab": {
     "base_uri": "https://localhost:8080/"
    },
    "executionInfo": {
     "elapsed": 1695,
     "status": "ok",
     "timestamp": 1622449471761,
     "user": {
      "displayName": "Phuong Khuat Thuy",
      "photoUrl": "https://lh3.googleusercontent.com/a-/AOh14GgRoKUbK0wCx-zob_FuGThytT8MKkXvtSaX5ZDCXA=s64",
      "userId": "16807426118474640783"
     },
     "user_tz": -420
    },
    "id": "ZBMiLq0EazDO",
    "outputId": "19a76c6e-187d-4397-b346-a9ee8b435b3d"
   },
   "outputs": [
    {
     "name": "stdout",
     "output_type": "stream",
     "text": [
      "root\n",
      " |-- asin: string (nullable = true)\n",
      " |-- overall: double (nullable = true)\n",
      " |-- reviewerID: string (nullable = true)\n",
      "\n"
     ]
    }
   ],
   "source": [
    "data_sub.printSchema()"
   ]
  },
  {
   "cell_type": "code",
   "execution_count": 11,
   "metadata": {
    "colab": {
     "base_uri": "https://localhost:8080/",
     "height": 136
    },
    "executionInfo": {
     "elapsed": 28694,
     "status": "ok",
     "timestamp": 1622449507933,
     "user": {
      "displayName": "Phuong Khuat Thuy",
      "photoUrl": "https://lh3.googleusercontent.com/a-/AOh14GgRoKUbK0wCx-zob_FuGThytT8MKkXvtSaX5ZDCXA=s64",
      "userId": "16807426118474640783"
     },
     "user_tz": -420
    },
    "id": "Ps2hBU_LLvQy",
    "outputId": "d9df041f-09bf-45c1-9190-de373c09c87b"
   },
   "outputs": [
    {
     "data": {
      "text/html": [
       "<div>\n",
       "<style scoped>\n",
       "    .dataframe tbody tr th:only-of-type {\n",
       "        vertical-align: middle;\n",
       "    }\n",
       "\n",
       "    .dataframe tbody tr th {\n",
       "        vertical-align: top;\n",
       "    }\n",
       "\n",
       "    .dataframe thead th {\n",
       "        text-align: right;\n",
       "    }\n",
       "</style>\n",
       "<table border=\"1\" class=\"dataframe\">\n",
       "  <thead>\n",
       "    <tr style=\"text-align: right;\">\n",
       "      <th></th>\n",
       "      <th>0</th>\n",
       "    </tr>\n",
       "  </thead>\n",
       "  <tbody>\n",
       "    <tr>\n",
       "      <th>asin</th>\n",
       "      <td>0</td>\n",
       "    </tr>\n",
       "    <tr>\n",
       "      <th>overall</th>\n",
       "      <td>0</td>\n",
       "    </tr>\n",
       "    <tr>\n",
       "      <th>reviewerID</th>\n",
       "      <td>0</td>\n",
       "    </tr>\n",
       "  </tbody>\n",
       "</table>\n",
       "</div>"
      ],
      "text/plain": [
       "            0\n",
       "asin        0\n",
       "overall     0\n",
       "reviewerID  0"
      ]
     },
     "execution_count": 11,
     "metadata": {},
     "output_type": "execute_result"
    }
   ],
   "source": [
    "data_sub.select([count(when(col(c).isNull(), c)).alias(c) for c in \n",
    "           data_sub.columns]).toPandas().T"
   ]
  },
  {
   "cell_type": "code",
   "execution_count": 12,
   "metadata": {
    "id": "9Nd5NbkALvQy"
   },
   "outputs": [],
   "source": [
    "# Distinct users and movies\n",
    "users = data_sub.select(\"reviewerID\").distinct().count()\n",
    "products = data_sub.select(\"asin\").distinct().count()\n",
    "numerator = data_sub.count()"
   ]
  },
  {
   "cell_type": "code",
   "execution_count": 13,
   "metadata": {
    "colab": {
     "base_uri": "https://localhost:8080/",
     "height": 67
    },
    "executionInfo": {
     "elapsed": 23,
     "status": "ok",
     "timestamp": 1622449548573,
     "user": {
      "displayName": "Phuong Khuat Thuy",
      "photoUrl": "https://lh3.googleusercontent.com/a-/AOh14GgRoKUbK0wCx-zob_FuGThytT8MKkXvtSaX5ZDCXA=s64",
      "userId": "16807426118474640783"
     },
     "user_tz": -420
    },
    "id": "p39W-IECLvQy",
    "outputId": "ab981822-023a-48bc-a770-9a27c3cdf525"
   },
   "outputs": [
    {
     "data": {
      "text/plain": [
       "53258"
      ]
     },
     "metadata": {},
     "output_type": "display_data"
    },
    {
     "data": {
      "text/plain": [
       "4905"
      ]
     },
     "metadata": {},
     "output_type": "display_data"
    },
    {
     "data": {
      "text/plain": [
       "2420"
      ]
     },
     "metadata": {},
     "output_type": "display_data"
    }
   ],
   "source": [
    "display(numerator, users, products)"
   ]
  },
  {
   "cell_type": "code",
   "execution_count": 14,
   "metadata": {
    "colab": {
     "base_uri": "https://localhost:8080/"
    },
    "executionInfo": {
     "elapsed": 15,
     "status": "ok",
     "timestamp": 1622449548574,
     "user": {
      "displayName": "Phuong Khuat Thuy",
      "photoUrl": "https://lh3.googleusercontent.com/a-/AOh14GgRoKUbK0wCx-zob_FuGThytT8MKkXvtSaX5ZDCXA=s64",
      "userId": "16807426118474640783"
     },
     "user_tz": -420
    },
    "id": "xg86iQisLvQz",
    "outputId": "ab57b0e1-67c6-49df-c340-9464e8f38a65"
   },
   "outputs": [
    {
     "data": {
      "text/plain": [
       "11870100"
      ]
     },
     "execution_count": 14,
     "metadata": {},
     "output_type": "execute_result"
    }
   ],
   "source": [
    "# Number of ratings matrix could contain if no empty cells\n",
    "denominator = users * products\n",
    "denominator"
   ]
  },
  {
   "cell_type": "code",
   "execution_count": 15,
   "metadata": {
    "colab": {
     "base_uri": "https://localhost:8080/"
    },
    "executionInfo": {
     "elapsed": 13,
     "status": "ok",
     "timestamp": 1622449548575,
     "user": {
      "displayName": "Phuong Khuat Thuy",
      "photoUrl": "https://lh3.googleusercontent.com/a-/AOh14GgRoKUbK0wCx-zob_FuGThytT8MKkXvtSaX5ZDCXA=s64",
      "userId": "16807426118474640783"
     },
     "user_tz": -420
    },
    "id": "KpJvoNx4LvQz",
    "outputId": "97685a10-67e7-4883-e9eb-c962c11997f8"
   },
   "outputs": [
    {
     "name": "stdout",
     "output_type": "stream",
     "text": [
      "Sparsity: \n"
     ]
    },
    {
     "data": {
      "text/plain": [
       "(None, 0.9955132644206873)"
      ]
     },
     "execution_count": 15,
     "metadata": {},
     "output_type": "execute_result"
    }
   ],
   "source": [
    "#Calculating sparsity\n",
    "sparsity = 1 - (numerator*1.0 / denominator)\n",
    "print (\"Sparsity: \"), sparsity"
   ]
  },
  {
   "cell_type": "code",
   "execution_count": 16,
   "metadata": {
    "id": "pf185zgALvQz"
   },
   "outputs": [],
   "source": [
    "from pyspark.ml.evaluation import RegressionEvaluator\n",
    "from pyspark.ml.recommendation import ALS"
   ]
  },
  {
   "cell_type": "code",
   "execution_count": 17,
   "metadata": {
    "id": "h2KzytODLvQ0"
   },
   "outputs": [],
   "source": [
    "# Converting String to index\n",
    "from pyspark.ml.feature import StringIndexer\n",
    "from pyspark.ml import Pipeline"
   ]
  },
  {
   "cell_type": "code",
   "execution_count": 18,
   "metadata": {
    "id": "WfeD4KvxLvQ0"
   },
   "outputs": [],
   "source": [
    "# Create an indexer\n",
    "indexer = StringIndexer(inputCol='asin', \n",
    "                        outputCol='asin_idx')\n",
    "\n",
    "# Indexer identifies categories in the data\n",
    "indexer_model = indexer.fit(data_sub)\n",
    "\n",
    "# Indexer creates a new column with numeric index values\n",
    "data_indexed = indexer_model.transform(data_sub)\n",
    "\n",
    "# Repeat the process for the other categorical feature\n",
    "indexer1 = StringIndexer(inputCol='reviewerID', \n",
    "                         outputCol='reviewerID_idx')\n",
    "indexer1_model = indexer1.fit(data_indexed)\n",
    "data_indexed = indexer1_model.transform(data_indexed)"
   ]
  },
  {
   "cell_type": "code",
   "execution_count": 19,
   "metadata": {
    "colab": {
     "base_uri": "https://localhost:8080/"
    },
    "executionInfo": {
     "elapsed": 7423,
     "status": "ok",
     "timestamp": 1622449593072,
     "user": {
      "displayName": "Phuong Khuat Thuy",
      "photoUrl": "https://lh3.googleusercontent.com/a-/AOh14GgRoKUbK0wCx-zob_FuGThytT8MKkXvtSaX5ZDCXA=s64",
      "userId": "16807426118474640783"
     },
     "user_tz": -420
    },
    "id": "34ubYJHeLvQ0",
    "outputId": "a3ee185f-7729-4ed9-9d4f-224596a5e28c"
   },
   "outputs": [
    {
     "name": "stdout",
     "output_type": "stream",
     "text": [
      "+----------+-------+--------------+--------+--------------+\n",
      "|      asin|overall|    reviewerID|asin_idx|reviewerID_idx|\n",
      "+----------+-------+--------------+--------+--------------+\n",
      "|B00000JBLH|    5.0|A32T2H8150OJLU|  1444.0|         286.0|\n",
      "|B00000JBLH|    5.0|A3MAFS04ZABRGO|  1444.0|        4499.0|\n",
      "|B00000JBLH|    2.0|A1F1A0QQP2XVH5|  1444.0|         211.0|\n",
      "|B00000JBLH|    5.0| A49R5DBXXQDE5|  1444.0|        4604.0|\n",
      "|B00000JBLH|    5.0|A2XRMQA6PJ5ZJ8|  1444.0|        1330.0|\n",
      "+----------+-------+--------------+--------+--------------+\n",
      "only showing top 5 rows\n",
      "\n"
     ]
    }
   ],
   "source": [
    "data_indexed.show(5, truncate=True)"
   ]
  },
  {
   "cell_type": "code",
   "execution_count": 20,
   "metadata": {
    "colab": {
     "base_uri": "https://localhost:8080/"
    },
    "executionInfo": {
     "elapsed": 12,
     "status": "ok",
     "timestamp": 1622449593073,
     "user": {
      "displayName": "Phuong Khuat Thuy",
      "photoUrl": "https://lh3.googleusercontent.com/a-/AOh14GgRoKUbK0wCx-zob_FuGThytT8MKkXvtSaX5ZDCXA=s64",
      "userId": "16807426118474640783"
     },
     "user_tz": -420
    },
    "id": "qLiGmeGialgA",
    "outputId": "d534cb2c-3fd4-4c51-f506-9c7b82e774b0"
   },
   "outputs": [
    {
     "name": "stdout",
     "output_type": "stream",
     "text": [
      "root\n",
      " |-- asin: string (nullable = true)\n",
      " |-- overall: double (nullable = true)\n",
      " |-- reviewerID: string (nullable = true)\n",
      " |-- asin_idx: double (nullable = false)\n",
      " |-- reviewerID_idx: double (nullable = false)\n",
      "\n"
     ]
    }
   ],
   "source": [
    "data_indexed.printSchema()"
   ]
  },
  {
   "cell_type": "code",
   "execution_count": 21,
   "metadata": {
    "colab": {
     "base_uri": "https://localhost:8080/",
     "height": 195
    },
    "executionInfo": {
     "elapsed": 29430,
     "status": "ok",
     "timestamp": 1622449622493,
     "user": {
      "displayName": "Phuong Khuat Thuy",
      "photoUrl": "https://lh3.googleusercontent.com/a-/AOh14GgRoKUbK0wCx-zob_FuGThytT8MKkXvtSaX5ZDCXA=s64",
      "userId": "16807426118474640783"
     },
     "user_tz": -420
    },
    "id": "PMcwvsPVLvQ0",
    "outputId": "1b196543-6072-4211-c5b4-ebbc993d9192"
   },
   "outputs": [
    {
     "data": {
      "text/html": [
       "<div>\n",
       "<style scoped>\n",
       "    .dataframe tbody tr th:only-of-type {\n",
       "        vertical-align: middle;\n",
       "    }\n",
       "\n",
       "    .dataframe tbody tr th {\n",
       "        vertical-align: top;\n",
       "    }\n",
       "\n",
       "    .dataframe thead th {\n",
       "        text-align: right;\n",
       "    }\n",
       "</style>\n",
       "<table border=\"1\" class=\"dataframe\">\n",
       "  <thead>\n",
       "    <tr style=\"text-align: right;\">\n",
       "      <th></th>\n",
       "      <th>0</th>\n",
       "    </tr>\n",
       "  </thead>\n",
       "  <tbody>\n",
       "    <tr>\n",
       "      <th>asin</th>\n",
       "      <td>0</td>\n",
       "    </tr>\n",
       "    <tr>\n",
       "      <th>overall</th>\n",
       "      <td>0</td>\n",
       "    </tr>\n",
       "    <tr>\n",
       "      <th>reviewerID</th>\n",
       "      <td>0</td>\n",
       "    </tr>\n",
       "    <tr>\n",
       "      <th>asin_idx</th>\n",
       "      <td>0</td>\n",
       "    </tr>\n",
       "    <tr>\n",
       "      <th>reviewerID_idx</th>\n",
       "      <td>0</td>\n",
       "    </tr>\n",
       "  </tbody>\n",
       "</table>\n",
       "</div>"
      ],
      "text/plain": [
       "                0\n",
       "asin            0\n",
       "overall         0\n",
       "reviewerID      0\n",
       "asin_idx        0\n",
       "reviewerID_idx  0"
      ]
     },
     "execution_count": 21,
     "metadata": {},
     "output_type": "execute_result"
    }
   ],
   "source": [
    "data_indexed.select([count(when(col(c).isNull(), c)).alias(c) for c in \n",
    "           data_indexed.columns]).toPandas().T"
   ]
  },
  {
   "cell_type": "code",
   "execution_count": 22,
   "metadata": {
    "id": "6VCQvlJILvQ1"
   },
   "outputs": [],
   "source": [
    "# Smaller dataset so we will use 0.8 / 0.2\n",
    "(training, test) = data_indexed.randomSplit([0.8, 0.2])"
   ]
  },
  {
   "cell_type": "code",
   "execution_count": 23,
   "metadata": {
    "id": "SGb_ToqMLvQ1"
   },
   "outputs": [],
   "source": [
    "# Creating ALS model and fitting data\n",
    "from pyspark.ml.evaluation import RegressionEvaluator\n",
    "from pyspark.ml.recommendation import ALS\n",
    "from time import time"
   ]
  },
  {
   "cell_type": "code",
   "execution_count": 24,
   "metadata": {
    "id": "a9kkVL28LvQ1"
   },
   "outputs": [],
   "source": [
    "als = ALS(maxIter=10, \n",
    "          regParam=0.09,           \n",
    "          rank = 25,\n",
    "          userCol=\"reviewerID_idx\", \n",
    "          itemCol=\"asin_idx\", \n",
    "          ratingCol=\"overall\", \n",
    "          coldStartStrategy=\"drop\",\n",
    "          nonnegative=True)\n",
    "model = als.fit(training)"
   ]
  },
  {
   "cell_type": "code",
   "execution_count": 25,
   "metadata": {
    "id": "fFbQMGLjLvQ2"
   },
   "outputs": [],
   "source": [
    "# Evaluate the model by computing the RMSE on the test data\n",
    "predictions = model.transform(test)"
   ]
  },
  {
   "cell_type": "code",
   "execution_count": 26,
   "metadata": {
    "colab": {
     "base_uri": "https://localhost:8080/"
    },
    "executionInfo": {
     "elapsed": 691939,
     "status": "ok",
     "timestamp": 1622451217344,
     "user": {
      "displayName": "Phuong Khuat Thuy",
      "photoUrl": "https://lh3.googleusercontent.com/a-/AOh14GgRoKUbK0wCx-zob_FuGThytT8MKkXvtSaX5ZDCXA=s64",
      "userId": "16807426118474640783"
     },
     "user_tz": -420
    },
    "id": "Mqxk_gpnLvQ2",
    "outputId": "7fef6bb1-6fc5-4bcf-d9c8-9e49d5c6022d"
   },
   "outputs": [
    {
     "name": "stdout",
     "output_type": "stream",
     "text": [
      "+----------+-------+--------------+--------+--------------+----------+\n",
      "|      asin|overall|    reviewerID|asin_idx|reviewerID_idx|prediction|\n",
      "+----------+-------+--------------+--------+--------------+----------+\n",
      "|B00004Z5SM|    5.0|A2HPVNZZF15W93|   111.0|         148.0|  5.378322|\n",
      "|B0000721Z3|    3.0| AZL1JK2B50D2H|   769.0|        4900.0| 3.1529493|\n",
      "|B0000C1XHY|    4.0| AHROSV6WJOEGY|   947.0|        1238.0|  1.557443|\n",
      "+----------+-------+--------------+--------+--------------+----------+\n",
      "only showing top 3 rows\n",
      "\n"
     ]
    }
   ],
   "source": [
    "predictions.show(3)"
   ]
  },
  {
   "cell_type": "code",
   "execution_count": 27,
   "metadata": {
    "id": "_i5-ev7pLvQ2"
   },
   "outputs": [],
   "source": [
    "evaluator = RegressionEvaluator(metricName=\"rmse\", \n",
    "                                labelCol=\"overall\",\n",
    "                                predictionCol=\"prediction\")\n",
    "rmse = evaluator.evaluate(predictions)"
   ]
  },
  {
   "cell_type": "code",
   "execution_count": 28,
   "metadata": {
    "id": "IWvGhxdwONcQ"
   },
   "outputs": [
    {
     "name": "stdout",
     "output_type": "stream",
     "text": [
      "Root-mean-square error = 0.982135679243817\n"
     ]
    }
   ],
   "source": [
    "print(\"Root-mean-square error = \" + str(rmse))"
   ]
  },
  {
   "cell_type": "code",
   "execution_count": 29,
   "metadata": {
    "id": "FkGft54MmO85"
   },
   "outputs": [],
   "source": [
    "# save hdfs, nho xoa file da co hoac doi ten file\n",
    "model.save(\"Rec_Amazon_OfficeProduct_model\")"
   ]
  },
  {
   "cell_type": "markdown",
   "metadata": {
    "id": "CUj6LH3ZLvQ3"
   },
   "source": [
    "### Providing Recommendations: for all users"
   ]
  },
  {
   "cell_type": "code",
   "execution_count": 30,
   "metadata": {
    "id": "Ea1ZDGB1LvQ3"
   },
   "outputs": [],
   "source": [
    "# get 5 recommendations which have highest rating.\n",
    "user_recs = model.recommendForAllUsers(5) "
   ]
  },
  {
   "cell_type": "code",
   "execution_count": 31,
   "metadata": {
    "id": "OqYkizks8zCk"
   },
   "outputs": [
    {
     "name": "stdout",
     "output_type": "stream",
     "text": [
      "+--------------+---------------------------------------------------------------------------------------------+\n",
      "|reviewerID_idx|recommendations                                                                              |\n",
      "+--------------+---------------------------------------------------------------------------------------------+\n",
      "|12            |[{2247, 5.835313}, {793, 5.79998}, {1991, 5.796389}, {2226, 5.756344}, {2396, 5.745772}]     |\n",
      "|22            |[{1984, 5.538006}, {2396, 5.51104}, {1911, 5.406266}, {1991, 5.3912053}, {1421, 5.3553834}]  |\n",
      "|26            |[{2247, 6.4652405}, {1984, 6.4511175}, {1985, 6.136538}, {1421, 6.129053}, {2199, 6.118365}] |\n",
      "|27            |[{1538, 5.489496}, {1697, 5.460419}, {1415, 5.3401423}, {793, 5.3184586}, {1985, 5.2797318}] |\n",
      "|28            |[{1984, 5.662718}, {1985, 5.4777637}, {1421, 5.473986}, {2247, 5.4734344}, {2396, 5.4222794}]|\n",
      "+--------------+---------------------------------------------------------------------------------------------+\n",
      "only showing top 5 rows\n",
      "\n"
     ]
    }
   ],
   "source": [
    "user_recs.show(5, truncate=False)"
   ]
  },
  {
   "cell_type": "code",
   "execution_count": 32,
   "metadata": {
    "id": "T__A19jL83B7"
   },
   "outputs": [
    {
     "data": {
      "text/plain": [
       "4905"
      ]
     },
     "execution_count": 32,
     "metadata": {},
     "output_type": "execute_result"
    }
   ],
   "source": [
    "user_recs.count()"
   ]
  },
  {
   "cell_type": "code",
   "execution_count": 33,
   "metadata": {
    "id": "E0jSI5f7LvQ4"
   },
   "outputs": [
    {
     "name": "stdout",
     "output_type": "stream",
     "text": [
      "Row(reviewerID_idx=12, recommendations=[Row(asin_idx=2247, rating=5.835312843322754), Row(asin_idx=793, rating=5.799980163574219), Row(asin_idx=1991, rating=5.796389102935791), Row(asin_idx=2226, rating=5.756343841552734), Row(asin_idx=2396, rating=5.745771884918213)])\n",
      "\n",
      "\n",
      "Row(reviewerID_idx=22, recommendations=[Row(asin_idx=1984, rating=5.538005828857422), Row(asin_idx=2396, rating=5.511040210723877), Row(asin_idx=1911, rating=5.406266212463379), Row(asin_idx=1991, rating=5.391205310821533), Row(asin_idx=1421, rating=5.355383396148682)])\n",
      "\n",
      "\n",
      "Row(reviewerID_idx=26, recommendations=[Row(asin_idx=2247, rating=6.465240478515625), Row(asin_idx=1984, rating=6.451117515563965), Row(asin_idx=1985, rating=6.136538028717041), Row(asin_idx=1421, rating=6.129053115844727), Row(asin_idx=2199, rating=6.1183648109436035)])\n",
      "\n",
      "\n",
      "Row(reviewerID_idx=27, recommendations=[Row(asin_idx=1538, rating=5.489496231079102), Row(asin_idx=1697, rating=5.460419178009033), Row(asin_idx=1415, rating=5.340142250061035), Row(asin_idx=793, rating=5.318458557128906), Row(asin_idx=1985, rating=5.279731750488281)])\n",
      "\n",
      "\n",
      "Row(reviewerID_idx=28, recommendations=[Row(asin_idx=1984, rating=5.662717819213867), Row(asin_idx=1985, rating=5.477763652801514), Row(asin_idx=1421, rating=5.4739861488342285), Row(asin_idx=2247, rating=5.4734344482421875), Row(asin_idx=2396, rating=5.422279357910156)])\n",
      "\n",
      "\n"
     ]
    }
   ],
   "source": [
    "for user in user_recs.head(5):\n",
    "    print(user)\n",
    "    print(\"\\n\")"
   ]
  },
  {
   "cell_type": "markdown",
   "metadata": {
    "id": "CwiHoINnLvQ4"
   },
   "source": [
    "### Converting back to string form"
   ]
  },
  {
   "cell_type": "code",
   "execution_count": 34,
   "metadata": {
    "id": "wddIGte_8_S8"
   },
   "outputs": [],
   "source": [
    "df_reviewer_reviewer_id = data_indexed.select('reviewerID_idx', 'reviewerID').distinct()"
   ]
  },
  {
   "cell_type": "code",
   "execution_count": 35,
   "metadata": {
    "id": "8ShnJWua9Cv0"
   },
   "outputs": [
    {
     "data": {
      "text/plain": [
       "4905"
      ]
     },
     "execution_count": 35,
     "metadata": {},
     "output_type": "execute_result"
    }
   ],
   "source": [
    "df_reviewer_reviewer_id.count()"
   ]
  },
  {
   "cell_type": "code",
   "execution_count": 36,
   "metadata": {
    "id": "l7CXIXaG9E9E"
   },
   "outputs": [
    {
     "name": "stdout",
     "output_type": "stream",
     "text": [
      "+--------------+--------------+\n",
      "|reviewerID_idx|    reviewerID|\n",
      "+--------------+--------------+\n",
      "|         103.0|A2JXCOUGYS5Y4J|\n",
      "|         305.0|A1T61QP7QHYBRQ|\n",
      "|        1228.0|  AC2278WPK3EU|\n",
      "|        4887.0| AYI9RQ4YYM9W1|\n",
      "|         579.0|A343C98QJO0JBE|\n",
      "+--------------+--------------+\n",
      "only showing top 5 rows\n",
      "\n"
     ]
    }
   ],
   "source": [
    "df_reviewer_reviewer_id.show(5)"
   ]
  },
  {
   "cell_type": "code",
   "execution_count": 37,
   "metadata": {
    "id": "-YVn_aD59I48"
   },
   "outputs": [],
   "source": [
    "df_asin_asin_idx = data_indexed.select('asin_idx', 'asin').distinct()"
   ]
  },
  {
   "cell_type": "code",
   "execution_count": 38,
   "metadata": {
    "id": "e7rJ23by9Je0"
   },
   "outputs": [
    {
     "data": {
      "text/plain": [
       "2420"
      ]
     },
     "execution_count": 38,
     "metadata": {},
     "output_type": "execute_result"
    }
   ],
   "source": [
    "df_asin_asin_idx.count()"
   ]
  },
  {
   "cell_type": "code",
   "execution_count": 39,
   "metadata": {
    "id": "kHtJHglP9Lg-"
   },
   "outputs": [
    {
     "name": "stdout",
     "output_type": "stream",
     "text": [
      "+--------+----------+\n",
      "|asin_idx|      asin|\n",
      "+--------+----------+\n",
      "|  1613.0|B00006I62X|\n",
      "|  1631.0|B0001DBHNA|\n",
      "|  1364.0|B0013CIJSO|\n",
      "|   394.0|B0013CM584|\n",
      "|   473.0|B001CSMJJE|\n",
      "+--------+----------+\n",
      "only showing top 5 rows\n",
      "\n"
     ]
    }
   ],
   "source": [
    "df_asin_asin_idx.show(5)"
   ]
  },
  {
   "cell_type": "code",
   "execution_count": 40,
   "metadata": {
    "id": "fu8sQdr89NwU"
   },
   "outputs": [],
   "source": [
    "new_user_recs = user_recs.join(df_reviewer_reviewer_id, on=['reviewerID_idx'], how='left')"
   ]
  },
  {
   "cell_type": "code",
   "execution_count": 41,
   "metadata": {
    "id": "SPb5jyt09P91"
   },
   "outputs": [
    {
     "name": "stdout",
     "output_type": "stream",
     "text": [
      "+--------------+---------------------------------------------------------------------------------------------+--------------+\n",
      "|reviewerID_idx|recommendations                                                                              |reviewerID    |\n",
      "+--------------+---------------------------------------------------------------------------------------------+--------------+\n",
      "|12            |[{2247, 5.835313}, {793, 5.79998}, {1991, 5.796389}, {2226, 5.756344}, {2396, 5.745772}]     |A376OJHLE6SU9Q|\n",
      "|22            |[{1984, 5.538006}, {2396, 5.51104}, {1911, 5.406266}, {1991, 5.3912053}, {1421, 5.3553834}]  |A13U975DFXBU44|\n",
      "|26            |[{2247, 6.4652405}, {1984, 6.4511175}, {1985, 6.136538}, {1421, 6.129053}, {2199, 6.118365}] |A1X3ESYZ79H59E|\n",
      "|27            |[{1538, 5.489496}, {1697, 5.460419}, {1415, 5.3401423}, {793, 5.3184586}, {1985, 5.2797318}] |A38BE06WWL20AY|\n",
      "|28            |[{1984, 5.662718}, {1985, 5.4777637}, {1421, 5.473986}, {2247, 5.4734344}, {2396, 5.4222794}]|A3NHUQ33CFH3VM|\n",
      "+--------------+---------------------------------------------------------------------------------------------+--------------+\n",
      "only showing top 5 rows\n",
      "\n"
     ]
    }
   ],
   "source": [
    "new_user_recs.show(5, truncate=False)"
   ]
  },
  {
   "cell_type": "code",
   "execution_count": 42,
   "metadata": {
    "id": "2s5Y1kGO9S-0"
   },
   "outputs": [
    {
     "data": {
      "text/plain": [
       "4905"
      ]
     },
     "execution_count": 42,
     "metadata": {},
     "output_type": "execute_result"
    }
   ],
   "source": [
    "new_user_recs.count()"
   ]
  },
  {
   "cell_type": "code",
   "execution_count": 43,
   "metadata": {
    "id": "HCAIaqNNMpE4"
   },
   "outputs": [],
   "source": [
    "# Save to hdfs\n",
    "new_user_recs.write.parquet('new_user_recs', mode='overwrite')\n",
    "df_asin_asin_idx.write.parquet('asin_asin_idx', mode='overwrite')"
   ]
  },
  {
   "cell_type": "code",
   "execution_count": 44,
   "metadata": {},
   "outputs": [],
   "source": [
    "new_user_recs.toPandas().to_csv('new_user_recommendations.csv', index=False)"
   ]
  },
  {
   "cell_type": "code",
   "execution_count": 45,
   "metadata": {},
   "outputs": [],
   "source": [
    "df_asin_asin_idx.toPandas().to_csv('df_asin_asin_idx.csv', index=False)"
   ]
  },
  {
   "cell_type": "code",
   "execution_count": 46,
   "metadata": {},
   "outputs": [],
   "source": [
    "from pyspark.sql.functions import explode, col"
   ]
  },
  {
   "cell_type": "code",
   "execution_count": 47,
   "metadata": {},
   "outputs": [],
   "source": [
    "# Explode the recommendations column to get each recommendation as a separate row\n",
    "exploded_df = new_user_recs.select(\"reviewerID\", explode(\"recommendations\").alias(\"exploded_rec\"))\n",
    "\n",
    "# Join with df_asin_asin_idx to replace asin_idx with asin\n",
    "df_result = exploded_df.join(df_asin_asin_idx, exploded_df[\"exploded_rec.asin_idx\"] == df_asin_asin_idx[\"asin_idx\"], \"left\") \\\n",
    "                       .select(\"reviewerID\", col(\"asin\").alias(\"recommendations\"), \"exploded_rec.rating\")"
   ]
  },
  {
   "cell_type": "code",
   "execution_count": 48,
   "metadata": {},
   "outputs": [
    {
     "name": "stdout",
     "output_type": "stream",
     "text": [
      "+--------------+---------------+---------+\n",
      "|reviewerID    |recommendations|rating   |\n",
      "+--------------+---------------+---------+\n",
      "|A376OJHLE6SU9Q|B001HA5PDE     |5.835313 |\n",
      "|A376OJHLE6SU9Q|B00006JNJR     |5.79998  |\n",
      "|A376OJHLE6SU9Q|B0041WISRK     |5.796389 |\n",
      "|A376OJHLE6SU9Q|B001B0ASBO     |5.756344 |\n",
      "|A376OJHLE6SU9Q|B008664QXW     |5.745772 |\n",
      "|A13U975DFXBU44|B003XOXUK2     |5.538006 |\n",
      "|A13U975DFXBU44|B008664QXW     |5.51104  |\n",
      "|A13U975DFXBU44|B001554FBE     |5.406266 |\n",
      "|A13U975DFXBU44|B0041WISRK     |5.3912053|\n",
      "|A13U975DFXBU44|B006LNU00K     |5.3553834|\n",
      "|A1X3ESYZ79H59E|B001HA5PDE     |6.4652405|\n",
      "|A1X3ESYZ79H59E|B003XOXUK2     |6.4511175|\n",
      "|A1X3ESYZ79H59E|B003XR480U     |6.136538 |\n",
      "|A1X3ESYZ79H59E|B006LNU00K     |6.129053 |\n",
      "|A1X3ESYZ79H59E|B000XHY15A     |6.118365 |\n",
      "|A38BE06WWL20AY|B001PMGB2I     |5.489496 |\n",
      "|A38BE06WWL20AY|B0017LLYZG     |5.460419 |\n",
      "|A38BE06WWL20AY|B004ISGG7Q     |5.3401423|\n",
      "|A38BE06WWL20AY|B00006JNJR     |5.3184586|\n",
      "|A38BE06WWL20AY|B003XR480U     |5.2797318|\n",
      "+--------------+---------------+---------+\n",
      "only showing top 20 rows\n",
      "\n"
     ]
    }
   ],
   "source": [
    "df_result.show(truncate=False)"
   ]
  },
  {
   "cell_type": "code",
   "execution_count": 49,
   "metadata": {},
   "outputs": [],
   "source": [
    "df_result.toPandas().to_csv('amazon_office_product_recommendations.csv', header=True, index=False)"
   ]
  },
  {
   "cell_type": "markdown",
   "metadata": {},
   "source": [
    "## Make recommendations to some users: \n",
    "\n",
    "A3CJ7MHAS9IMAM, A3LGT6UZL99IW1, A21KNRUAA5RK5E"
   ]
  },
  {
   "cell_type": "code",
   "execution_count": 50,
   "metadata": {},
   "outputs": [],
   "source": [
    "def get_recommendations(reviewerID):\n",
    "    find_user_rec = new_user_recs.filter(new_user_recs['reviewerID'] == reviewerID)\n",
    "    user = find_user_rec.first()\n",
    "    lst = []\n",
    "    \n",
    "    for row in user['recommendations']:\n",
    "        row_f = df_asin_asin_idx.filter(df_asin_asin_idx['asin_idx'] == row['asin_idx'])\n",
    "        row_f_first = row_f.first()\n",
    "        lst.append((row['asin_idx'], row_f_first['asin'], row['rating']))\n",
    "    \n",
    "    dic_user_rec = {'reviewerID': user['reviewerID'], 'recommendations': lst}\n",
    "    \n",
    "    return dic_user_rec\n",
    "\n"
   ]
  },
  {
   "cell_type": "code",
   "execution_count": 51,
   "metadata": {},
   "outputs": [],
   "source": [
    "# Recommendations for the specified users\n",
    "users_to_recommend = ['A3CJ7MHAS9IMAM', 'A3LGT6UZL99IW1', 'A21KNRUAA5RK5E']"
   ]
  },
  {
   "cell_type": "code",
   "execution_count": 52,
   "metadata": {},
   "outputs": [
    {
     "name": "stdout",
     "output_type": "stream",
     "text": [
      "List of products that  A3CJ7MHAS9IMAM  rated\n"
     ]
    },
    {
     "name": "stdout",
     "output_type": "stream",
     "text": [
      "+----------+-------+--------------+--------+--------------+\n",
      "|      asin|overall|    reviewerID|asin_idx|reviewerID_idx|\n",
      "+----------+-------+--------------+--------+--------------+\n",
      "|B005X9VZ70|    5.0|A3CJ7MHAS9IMAM|    70.0|         414.0|\n",
      "|B008587M7I|    5.0|A3CJ7MHAS9IMAM|   136.0|         414.0|\n",
      "|B00D3EWHU6|    4.0|A3CJ7MHAS9IMAM|   145.0|         414.0|\n",
      "|B009QYH32O|    3.0|A3CJ7MHAS9IMAM|   428.0|         414.0|\n",
      "+----------+-------+--------------+--------+--------------+\n",
      "\n",
      "List of products that  A3LGT6UZL99IW1  rated\n",
      "+----------+-------+--------------+--------+--------------+\n",
      "|      asin|overall|    reviewerID|asin_idx|reviewerID_idx|\n",
      "+----------+-------+--------------+--------+--------------+\n",
      "|B002M7W098|    5.0|A3LGT6UZL99IW1|   254.0|         185.0|\n",
      "|B002NU5ND4|    5.0|A3LGT6UZL99IW1|    26.0|         185.0|\n",
      "|B0039N7ELS|    5.0|A3LGT6UZL99IW1|     1.0|         185.0|\n",
      "|B004VJSG3E|    5.0|A3LGT6UZL99IW1|    95.0|         185.0|\n",
      "|B007XPBW1G|    5.0|A3LGT6UZL99IW1|    71.0|         185.0|\n",
      "|B00GMOO9EG|    4.0|A3LGT6UZL99IW1|   341.0|         185.0|\n",
      "+----------+-------+--------------+--------+--------------+\n",
      "\n",
      "List of products that  A21KNRUAA5RK5E  rated\n",
      "+----------+-------+--------------+--------+--------------+\n",
      "|      asin|overall|    reviewerID|asin_idx|reviewerID_idx|\n",
      "+----------+-------+--------------+--------+--------------+\n",
      "|B009NSJ8J4|    3.0|A21KNRUAA5RK5E|   479.0|        1290.0|\n",
      "+----------+-------+--------------+--------+--------------+\n",
      "\n"
     ]
    }
   ],
   "source": [
    "for user_id in users_to_recommend:\n",
    "    print(\"List of products that \", user_id, \" rated\")\n",
    "    test.filter(test['reviewerID']==user_id).sort(\"overall\", ascending = False).show()"
   ]
  },
  {
   "cell_type": "code",
   "execution_count": 53,
   "metadata": {},
   "outputs": [
    {
     "name": "stdout",
     "output_type": "stream",
     "text": [
      "Recommendation for:  A3CJ7MHAS9IMAM\n",
      "{'reviewerID': 'A3CJ7MHAS9IMAM', 'recommendations': [(1984, 'B003XOXUK2', 5.433505058288574), (2247, 'B001HA5PDE', 5.37818717956543), (1941, 'B001PMHUSW', 5.343048572540283), (2396, 'B008664QXW', 5.324159622192383), (2052, 'B00000K3T0', 5.320980548858643)]}\n",
      "Recommendation for:  A3LGT6UZL99IW1\n",
      "{'reviewerID': 'A3LGT6UZL99IW1', 'recommendations': [(1984, 'B003XOXUK2', 6.233952045440674), (2396, 'B008664QXW', 6.065934658050537), (2374, 'B0056DIYBS', 6.022498607635498), (1699, 'B001AKX59C', 5.999139308929443), (2090, 'B00006JNJJ', 5.978412628173828)]}\n",
      "Recommendation for:  A21KNRUAA5RK5E\n",
      "{'reviewerID': 'A21KNRUAA5RK5E', 'recommendations': [(1984, 'B003XOXUK2', 4.99719762802124), (1022, 'B00358RIRC', 4.747041702270508), (1072, 'B0011G47PQ', 4.70930290222168), (1554, 'B002NS0ZCK', 4.6887102127075195), (2304, 'B0035JJJ96', 4.619287490844727)]}\n"
     ]
    }
   ],
   "source": [
    "all_recommendations = []\n",
    "for user_id in users_to_recommend:\n",
    "    print('Recommendation for: ', user_id)\n",
    "    recommendations = get_recommendations(user_id)\n",
    "    print(recommendations)\n",
    "    all_recommendations.append(recommendations)"
   ]
  },
  {
   "cell_type": "code",
   "execution_count": 54,
   "metadata": {},
   "outputs": [],
   "source": [
    "df_recommendations = spark.createDataFrame(all_recommendations).select('reviewerID', 'recommendations')"
   ]
  },
  {
   "cell_type": "code",
   "execution_count": 55,
   "metadata": {},
   "outputs": [
    {
     "name": "stdout",
     "output_type": "stream",
     "text": [
      "+--------------+---------------------------------------------------------------------------------------------------------------------------------------------------------------------------------------------------+\n",
      "|reviewerID    |recommendations                                                                                                                                                                                    |\n",
      "+--------------+---------------------------------------------------------------------------------------------------------------------------------------------------------------------------------------------------+\n",
      "|A3CJ7MHAS9IMAM|[{1984, B003XOXUK2, 5.433505058288574}, {2247, B001HA5PDE, 5.37818717956543}, {1941, B001PMHUSW, 5.343048572540283}, {2396, B008664QXW, 5.324159622192383}, {2052, B00000K3T0, 5.320980548858643}] |\n",
      "|A3LGT6UZL99IW1|[{1984, B003XOXUK2, 6.233952045440674}, {2396, B008664QXW, 6.065934658050537}, {2374, B0056DIYBS, 6.022498607635498}, {1699, B001AKX59C, 5.999139308929443}, {2090, B00006JNJJ, 5.978412628173828}]|\n",
      "|A21KNRUAA5RK5E|[{1984, B003XOXUK2, 4.99719762802124}, {1022, B00358RIRC, 4.747041702270508}, {1072, B0011G47PQ, 4.70930290222168}, {1554, B002NS0ZCK, 4.6887102127075195}, {2304, B0035JJJ96, 4.619287490844727}] |\n",
      "+--------------+---------------------------------------------------------------------------------------------------------------------------------------------------------------------------------------------------+\n",
      "\n"
     ]
    }
   ],
   "source": [
    "df_recommendations.show( truncate=False)"
   ]
  },
  {
   "cell_type": "code",
   "execution_count": 56,
   "metadata": {},
   "outputs": [],
   "source": [
    "df_recommendations.toPandas().to_csv('new_recommendations.csv', index=False)"
   ]
  }
 ],
 "metadata": {
  "colab": {
   "collapsed_sections": [],
   "name": "Ex2_Recommendation_Project_Beauty_full_2.ipynb",
   "provenance": []
  },
  "kernelspec": {
   "display_name": "Python 3 (ipykernel)",
   "language": "python",
   "name": "python3"
  },
  "language_info": {
   "codemirror_mode": {
    "name": "ipython",
    "version": 3
   },
   "file_extension": ".py",
   "mimetype": "text/x-python",
   "name": "python",
   "nbconvert_exporter": "python",
   "pygments_lexer": "ipython3",
   "version": "3.10.9"
  }
 },
 "nbformat": 4,
 "nbformat_minor": 1
}
